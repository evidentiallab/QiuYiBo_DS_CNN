{
  "nbformat": 4,
  "nbformat_minor": 0,
  "metadata": {
    "accelerator": "GPU",
    "colab": {
      "name": "demo.ipynb",
      "provenance": [],
      "collapsed_sections": []
    },
    "kernelspec": {
      "display_name": "Python 3",
      "name": "python3"
    },
    "language_info": {
      "name": "python"
    }
  },
  "cells": [
    {
      "cell_type": "markdown",
      "metadata": {
        "id": "my3bB6Xl6qaH"
      },
      "source": [
        "This is a demo based on the FitNet-4 classifier for probablistic and evidential classification, which can be run on the google colab.\n",
        "\n",
        "Please check two points before running the demo:\n",
        "1. Use GPU or TPU in Google colab to improve the running speed as:\n",
        "edit >> Notebook setting >> Hardware accelerator >> Select GPU or TPU >> Save.\n",
        "\n",
        "2. Check the versions of the used libs, especially TensorFlow. The required versions of these libs can be found in the readme file."
      ]
    },
    {
      "cell_type": "markdown",
      "metadata": {
        "id": "thiYhNDH66eP"
      },
      "source": [
        "The first step is to import the pre-requisite libs as below.\n",
        "The required versions of these libs can be found in the readme file."
      ]
    },
    {
      "cell_type": "code",
      "metadata": {
        "colab": {
          "base_uri": "https://localhost:8080/"
        },
        "id": "d6Nwj3IC5nst",
        "outputId": "701076ee-19b8-43bc-d2e7-17f10a7d1ea9"
      },
      "source": [
        "import tensorflow as tf\n",
        "import sys\n",
        "from tensorflow import keras\n",
        "from tensorflow.keras import layers\n",
        "from tensorflow.keras.datasets import cifar10\n",
        "from keras.utils import np_utils\n",
        "from keras.callbacks import ModelCheckpoint\n",
        "from tensorflow.keras.preprocessing.image import ImageDataGenerator\n",
        "print(tf.__version__)\n",
        "print(\"python版本:%s\"% sys.version)\n",
        "\n",
        "from google.colab import drive\n",
        "drive.mount('/content/gdrive')\n",
        "sys.path.append('/content/gdrive/My Drive/cifar10_evidential/libs')\n",
        "import ds_layer #Dempster-Shafer layer\n",
        "import utility_layer_train #Utility layer for training\n",
        "import utility_layer_test #Utility layer for training\n",
        "import AU_imprecision #Metric average utility for set-valued classification\n",
        "\n",
        "from scipy.optimize import minimize\n",
        "import math\n",
        "import numpy as np"
      ],
      "execution_count": 1,
      "outputs": [
        {
          "output_type": "stream",
          "text": [
            "Mounted at /content/gdrive\n"
          ],
          "name": "stdout"
        }
      ]
    },
    {
      "cell_type": "markdown",
      "metadata": {
        "id": "mvSPrEFn7k1Z"
      },
      "source": [
        "Let's get and pre-process the CIFAR-10 database."
      ]
    },
    {
      "cell_type": "code",
      "metadata": {
        "id": "oOw9XlJW6olk",
        "colab": {
          "base_uri": "https://localhost:8080/"
        },
        "outputId": "3f0b8b00-830c-4ff7-99b6-0c2c2bfa8e36"
      },
      "source": [
        "(x_train, y_train), (x_test, y_test) = cifar10.load_data()\n",
        "x_train=x_train.astype(\"float32\") / 255.0\n",
        "x_test=x_test.astype(\"float32\") / 255.0\n",
        "y_train_label = y_train\n",
        "y_test_label = y_test\n",
        "y_train = np_utils.to_categorical(y_train)\n",
        "y_test = np_utils.to_categorical(y_test)"
      ],
      "execution_count": 2,
      "outputs": [
        {
          "output_type": "stream",
          "text": [
            "Downloading data from https://www.cs.toronto.edu/~kriz/cifar-10-python.tar.gz\n",
            "170500096/170498071 [==============================] - 6s 0us/step\n"
          ],
          "name": "stdout"
        }
      ]
    },
    {
      "cell_type": "markdown",
      "metadata": {
        "id": "7mT4kY4K7vCG"
      },
      "source": [
        "Let's build a probablistic FitNet-4 classifier.\n",
        "\n",
        "In the demo, we use the fixed learning rate and do not introduce data augmentation as well as some other technologies because the demo just try to show the difference between evidential and proabilistic FitNet-4 classifiers. If users wish to achieve the resutls reported in the papers ('Fitnets: Hints for thin deep nets' and 'All you need is a good init'), please refer their hyper-parameters."
      ]
    },
    {
      "cell_type": "code",
      "metadata": {
        "colab": {
          "base_uri": "https://localhost:8080/"
        },
        "id": "p7zhRG6R7433",
        "outputId": "f0f265e4-35e5-4a7f-a06d-c14e23cdcf8f"
      },
      "source": [
        "IMG_WIDTH = 32\n",
        "IMG_HEIGHT = 32\n",
        "IMG_CHANNELS = 3\n",
        "num_class=10\n",
        "\n",
        "inputs = tf.keras.layers.Input((IMG_HEIGHT, IMG_WIDTH, IMG_CHANNELS))\n",
        "\n",
        "c1_1 = tf.keras.layers.Conv2D(32, (3, 3), activation='relu', kernel_initializer='he_normal', padding='same')(inputs)\n",
        "c1_2 = tf.keras.layers.Conv2D(32, (3, 3), activation='relu', kernel_initializer='he_normal', padding='same')(c1_1)\n",
        "c1_3 = tf.keras.layers.Conv2D(32, (3, 3), activation='relu', kernel_initializer='he_normal', padding='same')(c1_2)\n",
        "c1_4 = tf.keras.layers.Conv2D(48, (3, 3), activation='relu', kernel_initializer='he_normal', padding='same')(c1_3)\n",
        "c1_5 = tf.keras.layers.Conv2D(48, (3, 3), activation='relu', kernel_initializer='he_normal', padding='same')(c1_4)\n",
        "bt1 = tf.keras.layers.BatchNormalization()(c1_5)\n",
        "p1 = tf.keras.layers.MaxPooling2D((2, 2))(bt1)\n",
        "dr1 = tf.keras.layers.Dropout(0.5)(p1)\n",
        "\n",
        "\n",
        "c2_1 = tf.keras.layers.Conv2D(80, (3, 3), activation='relu', kernel_initializer='he_normal', padding='same')(dr1)\n",
        "c2_2 = tf.keras.layers.Conv2D(80, (3, 3), activation='relu', kernel_initializer='he_normal', padding='same')(c2_1)\n",
        "c2_3 = tf.keras.layers.Conv2D(80, (3, 3), activation='relu', kernel_initializer='he_normal', padding='same')(c2_2)\n",
        "c2_4 = tf.keras.layers.Conv2D(80, (3, 3), activation='relu', kernel_initializer='he_normal', padding='same')(c2_3)\n",
        "c2_5 = tf.keras.layers.Conv2D(80, (3, 3), activation='relu', kernel_initializer='he_normal', padding='same')(c2_4)\n",
        "bt2 = tf.keras.layers.BatchNormalization()(c2_5)\n",
        "p2 = tf.keras.layers.MaxPooling2D((2, 2))(bt2)\n",
        "dr2 = tf.keras.layers.Dropout(0.5)(p2)\n",
        "\n",
        "c3_1 = tf.keras.layers.Conv2D(128, (3, 3), activation='relu', kernel_initializer='he_normal', padding='same')(dr2)\n",
        "c3_2 = tf.keras.layers.Conv2D(128, (3, 3), activation='relu', kernel_initializer='he_normal', padding='same')(c3_1)\n",
        "c3_3 = tf.keras.layers.Conv2D(128, (3, 3), activation='relu', kernel_initializer='he_normal', padding='same')(c3_2)\n",
        "c3_4 = tf.keras.layers.Conv2D(128, (3, 3), activation='relu', kernel_initializer='he_normal', padding='same')(c3_3)\n",
        "c3_5 = tf.keras.layers.Conv2D(128, (3, 3), activation='relu', kernel_initializer='he_normal', padding='same')(c3_4)\n",
        "bt3 = tf.keras.layers.BatchNormalization()(c3_5)\n",
        "p3 = tf.keras.layers.MaxPooling2D((8, 8))(bt3)\n",
        "dr3 = tf.keras.layers.Dropout(0.5)(p3)\n",
        "\n",
        "flatten1=tf.keras.layers.Flatten()(dr3)\n",
        "\n",
        "outputs = tf.keras.layers.Dense(num_class, activation='softmax')(flatten1)\n",
        "\n",
        "model_p = tf.keras.Model(inputs=[inputs], outputs=[outputs])\n",
        "model_p.compile(optimizer=keras.optimizers.Nadam(lr=0.001, beta_1=0.9, beta_2=0.999, epsilon=None, schedule_decay=0.004), #lr=0.005\n",
        "              loss='CategoricalCrossentropy',\n",
        "              metrics=['accuracy'])\n",
        "model_p.summary()"
      ],
      "execution_count": null,
      "outputs": [
        {
          "output_type": "stream",
          "text": [
            "Model: \"model\"\n",
            "_________________________________________________________________\n",
            "Layer (type)                 Output Shape              Param #   \n",
            "=================================================================\n",
            "input_1 (InputLayer)         [(None, 32, 32, 3)]       0         \n",
            "_________________________________________________________________\n",
            "conv2d (Conv2D)              (None, 32, 32, 32)        896       \n",
            "_________________________________________________________________\n",
            "conv2d_1 (Conv2D)            (None, 32, 32, 32)        9248      \n",
            "_________________________________________________________________\n",
            "conv2d_2 (Conv2D)            (None, 32, 32, 32)        9248      \n",
            "_________________________________________________________________\n",
            "conv2d_3 (Conv2D)            (None, 32, 32, 48)        13872     \n",
            "_________________________________________________________________\n",
            "conv2d_4 (Conv2D)            (None, 32, 32, 48)        20784     \n",
            "_________________________________________________________________\n",
            "batch_normalization (BatchNo (None, 32, 32, 48)        192       \n",
            "_________________________________________________________________\n",
            "max_pooling2d (MaxPooling2D) (None, 16, 16, 48)        0         \n",
            "_________________________________________________________________\n",
            "dropout (Dropout)            (None, 16, 16, 48)        0         \n",
            "_________________________________________________________________\n",
            "conv2d_5 (Conv2D)            (None, 16, 16, 80)        34640     \n",
            "_________________________________________________________________\n",
            "conv2d_6 (Conv2D)            (None, 16, 16, 80)        57680     \n",
            "_________________________________________________________________\n",
            "conv2d_7 (Conv2D)            (None, 16, 16, 80)        57680     \n",
            "_________________________________________________________________\n",
            "conv2d_8 (Conv2D)            (None, 16, 16, 80)        57680     \n",
            "_________________________________________________________________\n",
            "conv2d_9 (Conv2D)            (None, 16, 16, 80)        57680     \n",
            "_________________________________________________________________\n",
            "batch_normalization_1 (Batch (None, 16, 16, 80)        320       \n",
            "_________________________________________________________________\n",
            "max_pooling2d_1 (MaxPooling2 (None, 8, 8, 80)          0         \n",
            "_________________________________________________________________\n",
            "dropout_1 (Dropout)          (None, 8, 8, 80)          0         \n",
            "_________________________________________________________________\n",
            "conv2d_10 (Conv2D)           (None, 8, 8, 128)         92288     \n",
            "_________________________________________________________________\n",
            "conv2d_11 (Conv2D)           (None, 8, 8, 128)         147584    \n",
            "_________________________________________________________________\n",
            "conv2d_12 (Conv2D)           (None, 8, 8, 128)         147584    \n",
            "_________________________________________________________________\n",
            "conv2d_13 (Conv2D)           (None, 8, 8, 128)         147584    \n",
            "_________________________________________________________________\n",
            "conv2d_14 (Conv2D)           (None, 8, 8, 128)         147584    \n",
            "_________________________________________________________________\n",
            "batch_normalization_2 (Batch (None, 8, 8, 128)         512       \n",
            "_________________________________________________________________\n",
            "max_pooling2d_2 (MaxPooling2 (None, 1, 1, 128)         0         \n",
            "_________________________________________________________________\n",
            "dropout_2 (Dropout)          (None, 1, 1, 128)         0         \n",
            "_________________________________________________________________\n",
            "flatten (Flatten)            (None, 128)               0         \n",
            "_________________________________________________________________\n",
            "dense (Dense)                (None, 10)                1290      \n",
            "=================================================================\n",
            "Total params: 1,004,346\n",
            "Trainable params: 1,003,834\n",
            "Non-trainable params: 512\n",
            "_________________________________________________________________\n"
          ],
          "name": "stdout"
        }
      ]
    },
    {
      "cell_type": "markdown",
      "metadata": {
        "id": "B5vAvprB-Mg3"
      },
      "source": [
        "Let's train the probabilistic FitNet classifier.\n",
        "\n",
        "In the demo, the weights will be saved if the validation average utility is  improved after one epoch.\n",
        "\n",
        "As mentioned in our paper, when only considering the precise classification during training, the average utility equals to the average accuracy.\n",
        "\n",
        "Users is suggested to stop training when the training accuracy is close to 1. The authors also provide the weights of the model in the model zoo, users can directly load it in the next cell, instead of strating with pre-training."
      ]
    },
    {
      "cell_type": "code",
      "metadata": {
        "id": "sBaxcsf09pIX"
      },
      "source": [
        "filepath = ''#please define our own filepath to save the weights of the probabilistic FitNet-4 classifier\n",
        "checkpoint_callback = ModelCheckpoint(\n",
        "    filepath, monitor='val_accuracy', verbose=1,\n",
        "    save_best_only=True, save_weights_only=True,\n",
        "    save_frequency=1)\n",
        "\n",
        "model_p.fit(x_train, y_train, batch_size=25, epochs=200, verbose=1, callbacks=[checkpoint_callback], validation_data=(x_test, y_test), shuffle=True)"
      ],
      "execution_count": null,
      "outputs": []
    },
    {
      "cell_type": "code",
      "metadata": {
        "id": "2UMtyaI9_bdb",
        "colab": {
          "base_uri": "https://localhost:8080/"
        },
        "outputId": "3d4fb5e6-f4d2-4541-d8e9-97c2caa18318"
      },
      "source": [
        "model_p.load_weights('/content/gdrive/My Drive/cifar10_evidential/weights_zoo/cnn_checkpoint_final')# replace the path with your own\n",
        "model_p.evaluate(x_train, y_train, batch_size=25, verbose=1)\n",
        "model_p.evaluate(x_test, y_test, batch_size=25, verbose=1)"
      ],
      "execution_count": null,
      "outputs": [
        {
          "output_type": "stream",
          "text": [
            "2000/2000 [==============================] - 10s 3ms/step - loss: 0.0021 - accuracy: 0.9993\n",
            "400/400 [==============================] - 1s 3ms/step - loss: 0.8291 - accuracy: 0.8708\n"
          ],
          "name": "stdout"
        },
        {
          "output_type": "execute_result",
          "data": {
            "text/plain": [
              "[0.8290520310401917, 0.8708000183105469]"
            ]
          },
          "metadata": {
            "tags": []
          },
          "execution_count": 4
        }
      ]
    },
    {
      "cell_type": "markdown",
      "metadata": {
        "id": "JmpYviSsc3-Q"
      },
      "source": [
        "Let's build an evidential FitNet-4 classifier.\n",
        "\n",
        "Compared to the probabilistic one, the evidential classifier has the extra hyper-parameters: the number of prototypes and pessimism index \\nu (if use generalized Hurwicz decision criterion). The classifier has 200 prototypes and uses the generalized Hurwicz decision criterion with \\nu=0.9. The two hyper-parameters can be tuned using a validation set or by cross-validation.\n",
        "\n",
        "We also provide the utility layer based on Pignistic criterion, please find the details in utility_layer_train.py.\n",
        "\n",
        "In the demo, we use the fixed learning rate and do not introduce data augmentation as well as some other technologies because the demo just try to show the difference between evidential and proabilistic FitNet-4 classifiers. If users wish to achieve the resutls reported in the paper ('Fitnets: Hints for thin deep nets' and 'All you need is a good init'), please refer their hyper-parameters."
      ]
    },
    {
      "cell_type": "code",
      "metadata": {
        "colab": {
          "base_uri": "https://localhost:8080/"
        },
        "id": "bErpieRJFhKI",
        "outputId": "7e28b2ac-ad6b-4ce1-ad2c-435b231b8185"
      },
      "source": [
        "IMG_WIDTH = 32\n",
        "IMG_HEIGHT = 32\n",
        "IMG_CHANNELS = 3\n",
        "inputs_pixels = IMG_WIDTH * IMG_HEIGHT\n",
        "prototypes=200\n",
        "num_class=10\n",
        "\n",
        "inputs = tf.keras.layers.Input((IMG_HEIGHT, IMG_WIDTH, IMG_CHANNELS))\n",
        "\n",
        "#convolution stages\n",
        "c1_1 = tf.keras.layers.Conv2D(32, (3, 3), activation='relu', kernel_initializer='he_normal', padding='same')(inputs)\n",
        "c1_2 = tf.keras.layers.Conv2D(32, (3, 3), activation='relu', kernel_initializer='he_normal', padding='same')(c1_1)\n",
        "c1_3 = tf.keras.layers.Conv2D(32, (3, 3), activation='relu', kernel_initializer='he_normal', padding='same')(c1_2)\n",
        "c1_4 = tf.keras.layers.Conv2D(48, (3, 3), activation='relu', kernel_initializer='he_normal', padding='same')(c1_3)\n",
        "c1_5 = tf.keras.layers.Conv2D(48, (3, 3), activation='relu', kernel_initializer='he_normal', padding='same')(c1_4)\n",
        "bt1 = tf.keras.layers.BatchNormalization()(c1_5)\n",
        "p1 = tf.keras.layers.MaxPooling2D((2, 2))(bt1)\n",
        "dr1 = tf.keras.layers.Dropout(0.5)(p1)\n",
        "\n",
        "\n",
        "c2_1 = tf.keras.layers.Conv2D(80, (3, 3), activation='relu', kernel_initializer='he_normal', padding='same')(dr1)\n",
        "c2_2 = tf.keras.layers.Conv2D(80, (3, 3), activation='relu', kernel_initializer='he_normal', padding='same')(c2_1)\n",
        "c2_3 = tf.keras.layers.Conv2D(80, (3, 3), activation='relu', kernel_initializer='he_normal', padding='same')(c2_2)\n",
        "c2_4 = tf.keras.layers.Conv2D(80, (3, 3), activation='relu', kernel_initializer='he_normal', padding='same')(c2_3)\n",
        "c2_5 = tf.keras.layers.Conv2D(80, (3, 3), activation='relu', kernel_initializer='he_normal', padding='same')(c2_4)\n",
        "bt2 = tf.keras.layers.BatchNormalization()(c2_5)\n",
        "p2 = tf.keras.layers.MaxPooling2D((2, 2))(bt2)\n",
        "dr2 = tf.keras.layers.Dropout(0.5)(p2)\n",
        "\n",
        "c3_1 = tf.keras.layers.Conv2D(128, (3, 3), activation='relu', kernel_initializer='he_normal', padding='same')(dr2)\n",
        "c3_2 = tf.keras.layers.Conv2D(128, (3, 3), activation='relu', kernel_initializer='he_normal', padding='same')(c3_1)\n",
        "c3_3 = tf.keras.layers.Conv2D(128, (3, 3), activation='relu', kernel_initializer='he_normal', padding='same')(c3_2)\n",
        "c3_4 = tf.keras.layers.Conv2D(128, (3, 3), activation='relu', kernel_initializer='he_normal', padding='same')(c3_3)\n",
        "c3_5 = tf.keras.layers.Conv2D(128, (3, 3), activation='relu', kernel_initializer='he_normal', padding='same')(c3_4)\n",
        "bt3 = tf.keras.layers.BatchNormalization()(c3_5)\n",
        "p3 = tf.keras.layers.MaxPooling2D((8, 8))(bt3)\n",
        "dr3 = tf.keras.layers.Dropout(0.5)(p3)\n",
        "flatten1=tf.keras.layers.Flatten()(dr3)\n",
        "\n",
        "#DS layer\n",
        "ED = ds_layer.DS1(prototypes,128)(flatten1)\n",
        "ED_ac = ds_layer.DS1_activate(prototypes)(ED)\n",
        "mass_prototypes = ds_layer.DS2(prototypes, num_class)(ED_ac)\n",
        "mass_prototypes_omega = ds_layer.DS2_omega(prototypes, num_class)(mass_prototypes)\n",
        "mass_Dempster = ds_layer.DS3_Dempster(prototypes, num_class)(mass_prototypes_omega)\n",
        "mass_Dempster_normalize = ds_layer.DS3_normalize()(mass_Dempster)\n",
        "\n",
        "#Utility layer for training\n",
        "outputs = utility_layer_train.DM(0.9, num_class)(mass_Dempster_normalize)\n",
        "\n",
        "\n",
        "model_e = tf.keras.Model(inputs=[inputs], outputs=[outputs])\n",
        "model_e.compile(optimizer=keras.optimizers.Nadam(lr=0.001, beta_1=0.9, beta_2=0.999, epsilon=None, schedule_decay=0.004), \n",
        "              loss='CategoricalCrossentropy',\n",
        "              metrics=['accuracy'])\n",
        "model_e.summary()"
      ],
      "execution_count": 34,
      "outputs": [
        {
          "output_type": "stream",
          "text": [
            "Model: \"model_23\"\n",
            "_________________________________________________________________\n",
            "Layer (type)                 Output Shape              Param #   \n",
            "=================================================================\n",
            "input_17 (InputLayer)        [(None, 32, 32, 3)]       0         \n",
            "_________________________________________________________________\n",
            "conv2d_90 (Conv2D)           (None, 32, 32, 32)        896       \n",
            "_________________________________________________________________\n",
            "conv2d_91 (Conv2D)           (None, 32, 32, 32)        9248      \n",
            "_________________________________________________________________\n",
            "conv2d_92 (Conv2D)           (None, 32, 32, 32)        9248      \n",
            "_________________________________________________________________\n",
            "conv2d_93 (Conv2D)           (None, 32, 32, 48)        13872     \n",
            "_________________________________________________________________\n",
            "conv2d_94 (Conv2D)           (None, 32, 32, 48)        20784     \n",
            "_________________________________________________________________\n",
            "batch_normalization_18 (Batc (None, 32, 32, 48)        192       \n",
            "_________________________________________________________________\n",
            "max_pooling2d_18 (MaxPooling (None, 16, 16, 48)        0         \n",
            "_________________________________________________________________\n",
            "dropout_18 (Dropout)         (None, 16, 16, 48)        0         \n",
            "_________________________________________________________________\n",
            "conv2d_95 (Conv2D)           (None, 16, 16, 80)        34640     \n",
            "_________________________________________________________________\n",
            "conv2d_96 (Conv2D)           (None, 16, 16, 80)        57680     \n",
            "_________________________________________________________________\n",
            "conv2d_97 (Conv2D)           (None, 16, 16, 80)        57680     \n",
            "_________________________________________________________________\n",
            "conv2d_98 (Conv2D)           (None, 16, 16, 80)        57680     \n",
            "_________________________________________________________________\n",
            "conv2d_99 (Conv2D)           (None, 16, 16, 80)        57680     \n",
            "_________________________________________________________________\n",
            "batch_normalization_19 (Batc (None, 16, 16, 80)        320       \n",
            "_________________________________________________________________\n",
            "max_pooling2d_19 (MaxPooling (None, 8, 8, 80)          0         \n",
            "_________________________________________________________________\n",
            "dropout_19 (Dropout)         (None, 8, 8, 80)          0         \n",
            "_________________________________________________________________\n",
            "conv2d_100 (Conv2D)          (None, 8, 8, 128)         92288     \n",
            "_________________________________________________________________\n",
            "conv2d_101 (Conv2D)          (None, 8, 8, 128)         147584    \n",
            "_________________________________________________________________\n",
            "conv2d_102 (Conv2D)          (None, 8, 8, 128)         147584    \n",
            "_________________________________________________________________\n",
            "conv2d_103 (Conv2D)          (None, 8, 8, 128)         147584    \n",
            "_________________________________________________________________\n",
            "conv2d_104 (Conv2D)          (None, 8, 8, 128)         147584    \n",
            "_________________________________________________________________\n",
            "batch_normalization_20 (Batc (None, 8, 8, 128)         512       \n",
            "_________________________________________________________________\n",
            "max_pooling2d_20 (MaxPooling (None, 1, 1, 128)         0         \n",
            "_________________________________________________________________\n",
            "dropout_20 (Dropout)         (None, 1, 1, 128)         0         \n",
            "_________________________________________________________________\n",
            "flatten_6 (Flatten)          (None, 128)               0         \n",
            "_________________________________________________________________\n",
            "d_s1_14 (DS1)                (None, 200)               25600     \n",
            "_________________________________________________________________\n",
            "d_s1_activate_14 (DS1_activa (None, 200)               400       \n",
            "_________________________________________________________________\n",
            "d_s2_14 (DS2)                (None, 200, 10)           2000      \n",
            "_________________________________________________________________\n",
            "d_s2_omega_14 (DS2_omega)    (None, 200, 11)           0         \n",
            "_________________________________________________________________\n",
            "d_s3__dempster_14 (DS3_Demps (None, 11)                0         \n",
            "_________________________________________________________________\n",
            "d_s3_normalize_14 (DS3_norma (None, 11)                0         \n",
            "_________________________________________________________________\n",
            "dm_14 (DM)                   (None, 10)                0         \n",
            "=================================================================\n",
            "Total params: 1,031,056\n",
            "Trainable params: 1,030,544\n",
            "Non-trainable params: 512\n",
            "_________________________________________________________________\n"
          ],
          "name": "stdout"
        }
      ]
    },
    {
      "cell_type": "markdown",
      "metadata": {
        "id": "klyUQT3zRddd"
      },
      "source": [
        "The training beginning with random  initialized parameters is time consuming and slow. The authors suggests users directly use the weights from probabilistic CNN classifier and then fine-tune the paramters in DS layer and golable weights in the evidential CNN classifier as shown in the cell. If a user want to just use the well-trained classifier, please see the next cell."
      ]
    },
    {
      "cell_type": "code",
      "metadata": {
        "id": "MSl0dIMCJ8eW",
        "colab": {
          "base_uri": "https://localhost:8080/"
        },
        "outputId": "0146a088-b13b-40b9-9cb4-677f020680f4"
      },
      "source": [
        "#get the features using the probabilistic classifier\n",
        "model_e.load_weights('') #please give our own filepath to save the weights of the probabilistic FitNet-4 classifier\n",
        "feature = tf.keras.Model(inputs=[inputs], outputs=[flatten1])\n",
        "x_train_feature = feature.predict(x_train)\n",
        "x_test_feature = feature.predict(x_test)\n",
        "\n",
        "#Use the features to train DS layer\n",
        "inputs = tf.keras.layers.Input(128)\n",
        "ED = ds_layer.DS1(prototypes,128)(inputs)\n",
        "ED_ac = ds_layer.DS1_activate(prototypes)(ED)\n",
        "mass_prototypes = ds_layer.DS2(prototypes, num_class)(ED_ac)\n",
        "mass_prototypes_omega = ds_layer.DS2_omega(prototypes, num_class)(mass_prototypes)\n",
        "mass_Dempster = ds_layer.DS3_Dempster(prototypes, num_class)(mass_prototypes_omega)\n",
        "mass_Dempster_normalize = ds_layer.DS3_normalize()(mass_Dempster)\n",
        "outputs = utility_layer_train.DM(0.9, num_class)(mass_Dempster_normalize)\n",
        "model_mid = tf.keras.Model(inputs=[inputs], outputs=[outputs])\n",
        "model_mid.compile(optimizer=keras.optimizers.Nadam(lr=0.001, beta_1=0.9, beta_2=0.999, epsilon=None, schedule_decay=0.004), #0.001\n",
        "              loss='CategoricalCrossentropy',\n",
        "              metrics=['accuracy'])\n",
        "model_mid.fit(x_train_feature, y_train, batch_size=25,  epochs=2, verbose=1, validation_data=(x_test_feature, y_test), shuffle=True)\n",
        "\n",
        "#give the trained paramters to the evidential model\n",
        "model_e.load_weights('')#please give our own filepath to save the weights of the probabilistic FitNet-4 classifier\n",
        "DSLAYER_DS1_W = tf.reshape(model_mid.layers[1].get_weights()[0], [1, 200, 128])\n",
        "DSLAYER_DS1_activate_W = model_mid.layers[2].get_weights()\n",
        "DSLAYER_DS2_W = model_mid.layers[3].get_weights()\n",
        "model_e.layers[26].set_weights(DSLAYER_DS1_W)\n",
        "model_e.layers[27].set_weights(DSLAYER_DS1_activate_W)\n",
        "model_e.layers[28].set_weights(DSLAYER_DS2_W)\n",
        "\n",
        "#fine-tune the golable weights in the evidential CNN classifier and evaluate the classifier\n",
        "filepath = ''#define our own path to save the weights of the evidential FitNet-4 classifier\n",
        "checkpoint_callback = ModelCheckpoint(\n",
        "    filepath, monitor='val_accuracy', verbose=1,\n",
        "    save_best_only=True, save_weights_only=True,\n",
        "    save_frequency=1)\n",
        "model_e.fit(x_train, y_train, batch_size=25,  epochs=3, verbose=1, callbacks=[checkpoint_callback], validation_data=(x_test, y_test), shuffle=True)"
      ],
      "execution_count": 35,
      "outputs": [
        {
          "output_type": "stream",
          "text": [
            "Epoch 1/3\n",
            "WARNING:tensorflow:Unresolved object in checkpoint: (root).layer_with_weights-18.kernel\n",
            "WARNING:tensorflow:Unresolved object in checkpoint: (root).layer_with_weights-18.bias\n",
            "WARNING:tensorflow:Unresolved object in checkpoint: (root).optimizer's state 'm' for (root).layer_with_weights-18.kernel\n",
            "WARNING:tensorflow:Unresolved object in checkpoint: (root).optimizer's state 'm' for (root).layer_with_weights-18.bias\n",
            "WARNING:tensorflow:Unresolved object in checkpoint: (root).optimizer's state 'v' for (root).layer_with_weights-18.kernel\n",
            "WARNING:tensorflow:Unresolved object in checkpoint: (root).optimizer's state 'v' for (root).layer_with_weights-18.bias\n",
            "WARNING:tensorflow:A checkpoint was restored (e.g. tf.train.Checkpoint.restore or tf.keras.Model.load_weights) but not all checkpointed values were used. See above for specific issues. Use expect_partial() on the load status object, e.g. tf.train.Checkpoint.restore(...).expect_partial(), to silence these warnings, or use assert_consumed() to make the check explicit. See https://www.tensorflow.org/guide/checkpoint#loading_mechanics for details.\n",
            "WARNING:tensorflow:Unresolved object in checkpoint: (root).layer_with_weights-18.kernel\n",
            "WARNING:tensorflow:Unresolved object in checkpoint: (root).layer_with_weights-18.bias\n",
            "WARNING:tensorflow:Unresolved object in checkpoint: (root).optimizer's state 'm' for (root).layer_with_weights-18.kernel\n",
            "WARNING:tensorflow:Unresolved object in checkpoint: (root).optimizer's state 'm' for (root).layer_with_weights-18.bias\n",
            "WARNING:tensorflow:Unresolved object in checkpoint: (root).optimizer's state 'v' for (root).layer_with_weights-18.kernel\n",
            "WARNING:tensorflow:Unresolved object in checkpoint: (root).optimizer's state 'v' for (root).layer_with_weights-18.bias\n",
            "WARNING:tensorflow:A checkpoint was restored (e.g. tf.train.Checkpoint.restore or tf.keras.Model.load_weights) but not all checkpointed values were used. See above for specific issues. Use expect_partial() on the load status object, e.g. tf.train.Checkpoint.restore(...).expect_partial(), to silence these warnings, or use assert_consumed() to make the check explicit. See https://www.tensorflow.org/guide/checkpoint#loading_mechanics for details.\n",
            "2000/2000 [==============================] - 276s 106ms/step - loss: 1.2926 - accuracy: 0.5521 - val_loss: 0.7246 - val_accuracy: 0.8548\n",
            "Epoch 2/3\n",
            "2000/2000 [==============================] - 200s 100ms/step - loss: 0.1199 - accuracy: 0.9903 - val_loss: 0.7743 - val_accuracy: 0.8576\n",
            "Epoch 3/3\n",
            "2000/2000 [==============================] - 199s 100ms/step - loss: 0.0661 - accuracy: 0.9937 - val_loss: 0.8522 - val_accuracy: 0.8683\n",
            "Epoch 1/3\n",
            "2000/2000 [==============================] - 503s 217ms/step - loss: 0.2390 - accuracy: 0.9407 - val_loss: 0.7635 - val_accuracy: 0.8649\n",
            "\n",
            "Epoch 00001: val_accuracy improved from -inf to 0.86490, saving model to /content/gdrive/My Drive/evidential_DL_200_checkpoint\n",
            "Epoch 2/3\n",
            "2000/2000 [==============================] - 418s 209ms/step - loss: 0.0699 - accuracy: 0.9877 - val_loss: 0.8444 - val_accuracy: 0.8648\n",
            "\n",
            "Epoch 00002: val_accuracy did not improve from 0.86490\n",
            "Epoch 3/3\n",
            "2000/2000 [==============================] - 419s 209ms/step - loss: 0.0776 - accuracy: 0.9862 - val_loss: 0.8489 - val_accuracy: 0.8751\n",
            "\n",
            "Epoch 00003: val_accuracy improved from 0.86490 to 0.87510, saving model to /content/gdrive/My Drive/evidential_DL_200_checkpoint\n",
            "2000/2000 [==============================] - 81s 40ms/step - loss: 0.0199 - accuracy: 0.9995\n",
            "400/400 [==============================] - 16s 40ms/step - loss: 0.8489 - accuracy: 0.8751\n"
          ],
          "name": "stdout"
        },
        {
          "output_type": "execute_result",
          "data": {
            "text/plain": [
              "[0.8489488363265991, 0.8751000165939331]"
            ]
          },
          "metadata": {
            "tags": []
          },
          "execution_count": 35
        }
      ]
    },
    {
      "cell_type": "markdown",
      "metadata": {
        "id": "__27YVALGBUE"
      },
      "source": [
        "After training, the average utility of evidential classifier is slightly higer than the one of probablisitic classifier."
      ]
    },
    {
      "cell_type": "code",
      "metadata": {
        "colab": {
          "base_uri": "https://localhost:8080/"
        },
        "id": "VGE_fgbWK6bq",
        "outputId": "aa0a6695-c29e-49db-cac9-49c993d400fd"
      },
      "source": [
        "model_e.load_weights('/content/gdrive/My Drive/cifar10_evidential/weights_zoo/evidential_DL_200_checkpoint')\n",
        "model_e.evaluate(x_train, y_train, batch_size=25, verbose=1)\n",
        "model_e.evaluate(x_test, y_test, batch_size=25, verbose=1)"
      ],
      "execution_count": null,
      "outputs": [
        {
          "output_type": "stream",
          "text": [
            "WARNING:tensorflow:Inconsistent references when loading the checkpoint into this object graph. Either the Trackable object references in the Python program have changed in an incompatible way, or the checkpoint was generated in an incompatible program.\n",
            "\n",
            "Two checkpoint references resolved to different objects (<ds_layer.DS2 object at 0x7f0aa3c47210> and <ds_layer.DS3_normalize object at 0x7f0aa3b8d710>).\n",
            "2000/2000 [==============================] - 51s 19ms/step - loss: 0.0631 - accuracy: 0.9970\n",
            "400/400 [==============================] - 8s 19ms/step - loss: 0.6747 - accuracy: 0.8757\n"
          ],
          "name": "stdout"
        },
        {
          "output_type": "execute_result",
          "data": {
            "text/plain": [
              "[0.6746578216552734, 0.8756999969482422]"
            ]
          },
          "metadata": {
            "tags": []
          },
          "execution_count": 7
        }
      ]
    },
    {
      "cell_type": "markdown",
      "metadata": {
        "id": "5BxQv1poGQco"
      },
      "source": [
        "Let's see the set-valued classificaiton of the evidential FitNet-4 classifier. \n",
        "\n",
        "We first generate a utility matrix."
      ]
    },
    {
      "cell_type": "code",
      "metadata": {
        "id": "rJW0nKwrGPpG"
      },
      "source": [
        "# aim func: cross entropy\n",
        "def func(x):\n",
        "  fun=0\n",
        "  for i in range(len(x)):\n",
        "    fun += x[i] * math.log10(x[i])\n",
        "  return fun\n",
        "\n",
        "#constraint 1: the sum of weights is 1\n",
        "def cons1(x):\n",
        "  return sum(x)\n",
        "\n",
        "#constraint 2: define tolerance to imprecision\n",
        "def cons2(x):\n",
        "  tol = 0\n",
        "  for i in range(len(x)):\n",
        "    tol += (len(x) -(i+1)) * x[i] / (len(x) - 1)\n",
        "  return tol"
      ],
      "execution_count": 36,
      "outputs": []
    },
    {
      "cell_type": "code",
      "metadata": {
        "colab": {
          "base_uri": "https://localhost:8080/"
        },
        "id": "dghicwcvGtAy",
        "outputId": "963f90db-762d-4249-8f47-48f8a2fcbd26"
      },
      "source": [
        "#compute the weights g for ordered weighted average aggreagtion\n",
        "num_class = 10\n",
        "for j in range(2,(num_class+1)):\n",
        "  num_weights = j\n",
        "  ini_weights = np.asarray(np.random.rand(num_weights))\n",
        "\n",
        "  name='weight'+str(j)\n",
        "  locals()['weight'+str(j)]= np.zeros([5, j])\n",
        "\n",
        "  for i in range(5):\n",
        "    tol = 0.5 + i * 0.1\n",
        "\n",
        "    cons = ({'type': 'eq', 'fun' : lambda x: cons1(x)-1},\n",
        "          {'type': 'eq', 'fun' : lambda x: cons2(x)-tol},\n",
        "          {'type': 'ineq', 'fun' : lambda x: x-0.00000001}\n",
        "        )\n",
        "  \n",
        "    res = minimize(func, ini_weights, method='SLSQP', options={'disp': True}, constraints=cons)\n",
        "    locals()['weight'+str(j)][i] = res.x\n",
        "    print (res.x)"
      ],
      "execution_count": 37,
      "outputs": [
        {
          "output_type": "stream",
          "text": [
            "Optimization terminated successfully.    (Exit mode 0)\n",
            "            Current function value: -0.30102999566398125\n",
            "            Iterations: 2\n",
            "            Function evaluations: 8\n",
            "            Gradient evaluations: 2\n",
            "[0.5 0.5]\n",
            "Optimization terminated successfully.    (Exit mode 0)\n",
            "            Current function value: -0.29228525323862886\n",
            "            Iterations: 2\n",
            "            Function evaluations: 8\n",
            "            Gradient evaluations: 2\n",
            "[0.6 0.4]\n",
            "Optimization terminated successfully.    (Exit mode 0)\n",
            "            Current function value: -0.2652949955741215\n",
            "            Iterations: 2\n",
            "            Function evaluations: 8\n",
            "            Gradient evaluations: 2\n",
            "[0.7 0.3]\n",
            "Optimization terminated successfully.    (Exit mode 0)\n",
            "            Current function value: -0.2173220112736488\n",
            "            Iterations: 2\n",
            "            Function evaluations: 8\n",
            "            Gradient evaluations: 2\n",
            "[0.8 0.2]\n",
            "Optimization terminated successfully.    (Exit mode 0)\n",
            "            Current function value: -0.1411817415046075\n",
            "            Iterations: 2\n",
            "            Function evaluations: 8\n",
            "            Gradient evaluations: 2\n",
            "[0.9 0.1]\n",
            "Optimization terminated successfully.    (Exit mode 0)\n",
            "            Current function value: -0.47712125462928956\n",
            "            Iterations: 4\n",
            "            Function evaluations: 20\n",
            "            Gradient evaluations: 4\n",
            "[0.33332852 0.33334295 0.33332852]\n",
            "Optimization terminated successfully.    (Exit mode 0)\n",
            "            Current function value: -0.4639930049435555\n",
            "            Iterations: 4\n",
            "            Function evaluations: 20\n",
            "            Gradient evaluations: 4\n",
            "[0.43836969 0.32326063 0.23836969]\n",
            "Optimization terminated successfully.    (Exit mode 0)\n",
            "            Current function value: -0.4233254757403061\n",
            "            Iterations: 4\n",
            "            Function evaluations: 20\n",
            "            Gradient evaluations: 4\n",
            "[0.55380438 0.29239124 0.15380438]\n",
            "Optimization terminated successfully.    (Exit mode 0)\n",
            "            Current function value: -0.35041889160183015\n",
            "            Iterations: 3\n",
            "            Function evaluations: 16\n",
            "            Gradient evaluations: 3\n",
            "[0.68208412 0.23583176 0.08208412]\n",
            "Optimization terminated successfully.    (Exit mode 0)\n",
            "            Current function value: -0.2325876953610533\n",
            "            Iterations: 6\n",
            "            Function evaluations: 32\n",
            "            Gradient evaluations: 6\n",
            "[0.82626492 0.14747015 0.02626492]\n",
            "Optimization terminated successfully.    (Exit mode 0)\n",
            "            Current function value: -0.6020598327474102\n",
            "            Iterations: 4\n",
            "            Function evaluations: 25\n",
            "            Gradient evaluations: 4\n",
            "[0.24981586 0.25035322 0.24984599 0.24998493]\n",
            "Optimization terminated successfully.    (Exit mode 0)\n",
            "            Current function value: -0.586295258518285\n",
            "            Iterations: 3\n",
            "            Function evaluations: 19\n",
            "            Gradient evaluations: 3\n",
            "[0.34748497 0.27196299 0.21361911 0.16693293]\n",
            "Optimization terminated successfully.    (Exit mode 0)\n",
            "            Current function value: -0.537318568717354\n",
            "            Iterations: 6\n",
            "            Function evaluations: 37\n",
            "            Gradient evaluations: 6\n",
            "[0.46143554 0.27549062 0.16471214 0.0983617 ]\n",
            "Optimization terminated successfully.    (Exit mode 0)\n",
            "            Current function value: -0.44888807290738697\n",
            "            Iterations: 6\n",
            "            Function evaluations: 38\n",
            "            Gradient evaluations: 6\n",
            "[0.59642939 0.2520523  0.10660723 0.04491108]\n",
            "Optimization terminated successfully.    (Exit mode 0)\n",
            "            Current function value: -0.3036738966449429\n",
            "            Iterations: 7\n",
            "            Function evaluations: 48\n",
            "            Gradient evaluations: 7\n",
            "[0.76392672 0.18222587 0.0437681  0.01007931]\n",
            "Optimization terminated successfully.    (Exit mode 0)\n",
            "            Current function value: -0.6989699767125517\n",
            "            Iterations: 8\n",
            "            Function evaluations: 58\n",
            "            Gradient evaluations: 8\n",
            "[0.1999892  0.19997542 0.19999345 0.20013006 0.19991188]\n",
            "Optimization terminated successfully.    (Exit mode 0)\n",
            "            Current function value: -0.6814447453269289\n",
            "            Iterations: 10\n",
            "            Function evaluations: 73\n",
            "            Gradient evaluations: 10\n",
            "[0.28830896 0.23543742 0.1919325  0.1565869  0.12773422]\n",
            "Optimization terminated successfully.    (Exit mode 0)\n",
            "            Current function value: -0.6268723195129932\n",
            "            Iterations: 9\n",
            "            Function evaluations: 68\n",
            "            Gradient evaluations: 9\n",
            "[0.39570241 0.25752505 0.1679776  0.10866002 0.07013492]\n",
            "Optimization terminated successfully.    (Exit mode 0)\n",
            "            Current function value: -0.5277824992952518\n",
            "            Iterations: 12\n",
            "            Function evaluations: 90\n",
            "            Gradient evaluations: 12\n",
            "[0.53099253 0.2560392  0.12397337 0.05996552 0.02902937]\n",
            "Optimization terminated successfully.    (Exit mode 0)\n",
            "            Current function value: -0.3628892895440308\n",
            "            Iterations: 12\n",
            "            Function evaluations: 92\n",
            "            Gradient evaluations: 12\n",
            "[0.71059787 0.20654014 0.06023644 0.01751522 0.00511033]\n",
            "Optimization terminated successfully.    (Exit mode 0)\n",
            "            Current function value: -0.7781509764915153\n",
            "            Iterations: 10\n",
            "            Function evaluations: 81\n",
            "            Gradient evaluations: 10\n",
            "[0.16674518 0.16652145 0.16650943 0.16704743 0.16656519 0.16661134]\n",
            "Optimization terminated successfully.    (Exit mode 0)\n",
            "            Current function value: -0.7593665910806107\n",
            "            Iterations: 12\n",
            "            Function evaluations: 101\n",
            "            Gradient evaluations: 12\n",
            "[0.24673141 0.20724617 0.17406525 0.14624416 0.12267417 0.10303883]\n",
            "Optimization terminated successfully.    (Exit mode 0)\n",
            "            Current function value: -0.700768911541362\n",
            "            Iterations: 13\n",
            "            Function evaluations: 110\n",
            "            Gradient evaluations: 13\n",
            "[0.34764618 0.23931288 0.16574207 0.11434046 0.07861045 0.05434796]\n",
            "Optimization terminated successfully.    (Exit mode 0)\n",
            "            Current function value: -0.5938824144155143\n",
            "            Iterations: 17\n",
            "            Function evaluations: 146\n",
            "            Gradient evaluations: 17\n",
            "[0.47796496 0.25496931 0.13572235 0.07233855 0.0384538  0.02055102]\n",
            "Optimization terminated successfully.    (Exit mode 0)\n",
            "            Current function value: -0.41403443636725906\n",
            "            Iterations: 14\n",
            "            Function evaluations: 125\n",
            "            Gradient evaluations: 14\n",
            "[0.66394252 0.2234806  0.07563332 0.02540225 0.00866056 0.00288075]\n",
            "Optimization terminated successfully.    (Exit mode 0)\n",
            "            Current function value: -0.8450980382808109\n",
            "            Iterations: 5\n",
            "            Function evaluations: 49\n",
            "            Gradient evaluations: 5\n",
            "[0.14287238 0.14285942 0.1428282  0.14285936 0.14285659 0.14286454\n",
            " 0.14285951]\n",
            "Optimization terminated successfully.    (Exit mode 0)\n",
            "            Current function value: -0.8253677972632905\n",
            "            Iterations: 5\n",
            "            Function evaluations: 50\n",
            "            Gradient evaluations: 5\n",
            "[0.2157081  0.18524619 0.1589536  0.1363884  0.117033   0.10047492\n",
            " 0.0861958 ]\n",
            "Optimization terminated successfully.    (Exit mode 0)\n",
            "            Current function value: -0.7637322451763144\n",
            "            Iterations: 9\n",
            "            Function evaluations: 85\n",
            "            Gradient evaluations: 9\n",
            "[0.30941171 0.22391744 0.16139271 0.11651992 0.08408777 0.06063637\n",
            " 0.04403408]\n",
            "Optimization terminated successfully.    (Exit mode 0)\n",
            "            Current function value: -0.6508873318066395\n",
            "            Iterations: 12\n",
            "            Function evaluations: 116\n",
            "            Gradient evaluations: 12\n",
            "[0.43510361 0.24964275 0.14325907 0.08223513 0.04718318 0.02705657\n",
            " 0.01551969]\n",
            "Optimization terminated successfully.    (Exit mode 0)\n",
            "            Current function value: -0.4592335321771322\n",
            "            Iterations: 12\n",
            "            Function evaluations: 122\n",
            "            Gradient evaluations: 12\n",
            "[0.6226773  0.23527824 0.08894732 0.03374936 0.01287973 0.00474822\n",
            " 0.00171984]\n",
            "Optimization terminated successfully.    (Exit mode 0)\n",
            "            Current function value: -0.9030899572963668\n",
            "            Iterations: 7\n",
            "            Function evaluations: 73\n",
            "            Gradient evaluations: 7\n",
            "[0.12494372 0.12503902 0.12506389 0.1249795  0.12494823 0.1250099\n",
            " 0.12505787 0.12495786]\n",
            "Optimization terminated successfully.    (Exit mode 0)\n",
            "            Current function value: -0.8826236474663947\n",
            "            Iterations: 8\n",
            "            Function evaluations: 88\n",
            "            Gradient evaluations: 8\n",
            "[0.19172358 0.16740415 0.14608733 0.12751451 0.11131036 0.09714416\n",
            " 0.08479598 0.07401994]\n",
            "Optimization terminated successfully.    (Exit mode 0)\n",
            "            Current function value: -0.8186139708256944\n",
            "            Iterations: 14\n",
            "            Function evaluations: 147\n",
            "            Gradient evaluations: 14\n",
            "[0.27920574 0.20891576 0.1563344  0.11692187 0.08763721 0.06541039\n",
            " 0.04897338 0.03660125]\n",
            "Optimization terminated successfully.    (Exit mode 0)\n",
            "            Current function value: -0.7010596281575375\n",
            "            Iterations: 14\n",
            "            Function evaluations: 153\n",
            "            Gradient evaluations: 14\n",
            "[0.39889363 0.24282403 0.14778498 0.08996337 0.05507359 0.0333288\n",
            " 0.02014372 0.01198789]\n",
            "Optimization terminated successfully.    (Exit mode 0)\n",
            "            Current function value: -0.4998271033571912\n",
            "            Iterations: 17\n",
            "            Function evaluations: 192\n",
            "            Gradient evaluations: 17\n",
            "[0.5862306  0.24295361 0.10063684 0.04163837 0.01724485 0.0071162\n",
            " 0.00295951 0.00122002]\n",
            "Optimization terminated successfully.    (Exit mode 0)\n",
            "            Current function value: -0.9542425062600922\n",
            "            Iterations: 15\n",
            "            Function evaluations: 174\n",
            "            Gradient evaluations: 15\n",
            "[0.111106   0.11110592 0.11110851 0.11113229 0.11112507 0.11108336\n",
            " 0.1111215  0.11110459 0.11111274]\n",
            "Optimization terminated successfully.    (Exit mode 0)\n",
            "            Current function value: -0.9331865845453656\n",
            "            Iterations: 22\n",
            "            Function evaluations: 258\n",
            "            Gradient evaluations: 22\n",
            "[0.17253363 0.15279982 0.13504931 0.1195178  0.10559448 0.09378787\n",
            " 0.08268248 0.07314089 0.06489373]\n",
            "Optimization terminated successfully.    (Exit mode 0)\n",
            "            Current function value: -0.8672674220348616\n",
            "            Iterations: 20\n",
            "            Function evaluations: 239\n",
            "            Gradient evaluations: 20\n",
            "[0.25394731 0.19581534 0.1509679  0.11671785 0.08882672 0.0687772\n",
            " 0.05315555 0.04036787 0.03142426]\n",
            "Optimization terminated successfully.    (Exit mode 0)\n",
            "            Current function value: -0.7459042820789246\n",
            "            Iterations: 23\n",
            "            Function evaluations: 275\n",
            "            Gradient evaluations: 23\n",
            "[0.36879498 0.23509458 0.14994443 0.09558861 0.06103861 0.03898821\n",
            " 0.02474604 0.01575731 0.01004722]\n",
            "Optimization terminated successfully.    (Exit mode 0)\n",
            "            Current function value: -0.5367165674405341\n",
            "            Iterations: 19\n",
            "            Function evaluations: 234\n",
            "            Gradient evaluations: 19\n",
            "[0.55364786 0.24738009 0.11057215 0.04966544 0.02190603 0.0097486\n",
            " 0.00427325 0.00197997 0.00082662]\n",
            "Optimization terminated successfully.    (Exit mode 0)\n",
            "            Current function value: -0.9999999696338958\n",
            "            Iterations: 8\n",
            "            Function evaluations: 100\n",
            "            Gradient evaluations: 8\n",
            "[0.09999242 0.09994207 0.10000017 0.10005851 0.10003778 0.09999989\n",
            " 0.1000199  0.09994729 0.10003665 0.09996532]\n",
            "Optimization terminated successfully.    (Exit mode 0)\n",
            "            Current function value: -0.9784618927883464\n",
            "            Iterations: 16\n",
            "            Function evaluations: 203\n",
            "            Gradient evaluations: 16\n",
            "[0.15690159 0.14036854 0.12557958 0.11234098 0.10050772 0.08991864\n",
            " 0.0804368  0.07196371 0.06438344 0.057599  ]\n",
            "Optimization terminated successfully.    (Exit mode 0)\n",
            "            Current function value: -0.9109709353938173\n",
            "            Iterations: 14\n",
            "            Function evaluations: 181\n",
            "            Gradient evaluations: 14\n",
            "[0.23331572 0.18404043 0.14489536 0.11438463 0.0900491  0.07109322\n",
            " 0.05683772 0.04415369 0.03382081 0.02740931]\n",
            "Optimization terminated successfully.    (Exit mode 0)\n",
            "            Current function value: -0.7864591433860704\n",
            "            Iterations: 16\n",
            "            Function evaluations: 208\n",
            "            Gradient evaluations: 16\n",
            "[0.34251662 0.2271863  0.1507248  0.09989811 0.06624384 0.04393717\n",
            " 0.02906298 0.01927865 0.01268376 0.00846778]\n",
            "Optimization terminated successfully.    (Exit mode 0)\n",
            "            Current function value: -0.5705608872360399\n",
            "            Iterations: 16\n",
            "            Function evaluations: 221\n",
            "            Gradient evaluations: 16\n",
            "[0.52476199 0.24964728 0.11866353 0.05653501 0.02688462 0.0126736\n",
            " 0.00601742 0.00276901 0.00140141 0.00064614]\n"
          ],
          "name": "stdout"
        }
      ]
    },
    {
      "cell_type": "code",
      "metadata": {
        "id": "E7kU8KGfG0PJ"
      },
      "source": [
        "#function for power set\n",
        "def PowerSetsBinary(items):  \n",
        "    #generate all combination of N items  \n",
        "    N = len(items)  \n",
        "    #enumerate the 2**N possible combinations  \n",
        "    set_all=[]\n",
        "    for i in range(2**N):\n",
        "        combo = []  \n",
        "        for j in range(N):  \n",
        "            if(i >> j ) % 2 == 1:  \n",
        "                combo.append(items[j]) \n",
        "        set_all.append(combo)\n",
        "    return set_all"
      ],
      "execution_count": 38,
      "outputs": []
    },
    {
      "cell_type": "code",
      "metadata": {
        "colab": {
          "base_uri": "https://localhost:8080/"
        },
        "id": "2RwdGN2YG18H",
        "outputId": "fe215cd5-e210-4fbe-cd43-1fc31515e6f2"
      },
      "source": [
        "class_set=list(range(num_class))\n",
        "act_set= PowerSetsBinary(class_set)\n",
        "act_set.remove(act_set[0])#emptyset is not needed\n",
        "act_set=sorted(act_set)\n",
        "print(act_set)\n",
        "print(len(act_set))\n",
        "#label_dict = {0:'airplane', 1:'automobile', 2:'bird', 3:'cat', 4:'deer',\n",
        "#              5:'dog', 6:'frog', 7:'horse', 8:'ship', 9:'truck'}"
      ],
      "execution_count": 39,
      "outputs": [
        {
          "output_type": "stream",
          "text": [
            "[[0], [0, 1], [0, 1, 2], [0, 1, 2, 3], [0, 1, 2, 3, 4], [0, 1, 2, 3, 4, 5], [0, 1, 2, 3, 4, 5, 6], [0, 1, 2, 3, 4, 5, 6, 7], [0, 1, 2, 3, 4, 5, 6, 7, 8], [0, 1, 2, 3, 4, 5, 6, 7, 8, 9], [0, 1, 2, 3, 4, 5, 6, 7, 9], [0, 1, 2, 3, 4, 5, 6, 8], [0, 1, 2, 3, 4, 5, 6, 8, 9], [0, 1, 2, 3, 4, 5, 6, 9], [0, 1, 2, 3, 4, 5, 7], [0, 1, 2, 3, 4, 5, 7, 8], [0, 1, 2, 3, 4, 5, 7, 8, 9], [0, 1, 2, 3, 4, 5, 7, 9], [0, 1, 2, 3, 4, 5, 8], [0, 1, 2, 3, 4, 5, 8, 9], [0, 1, 2, 3, 4, 5, 9], [0, 1, 2, 3, 4, 6], [0, 1, 2, 3, 4, 6, 7], [0, 1, 2, 3, 4, 6, 7, 8], [0, 1, 2, 3, 4, 6, 7, 8, 9], [0, 1, 2, 3, 4, 6, 7, 9], [0, 1, 2, 3, 4, 6, 8], [0, 1, 2, 3, 4, 6, 8, 9], [0, 1, 2, 3, 4, 6, 9], [0, 1, 2, 3, 4, 7], [0, 1, 2, 3, 4, 7, 8], [0, 1, 2, 3, 4, 7, 8, 9], [0, 1, 2, 3, 4, 7, 9], [0, 1, 2, 3, 4, 8], [0, 1, 2, 3, 4, 8, 9], [0, 1, 2, 3, 4, 9], [0, 1, 2, 3, 5], [0, 1, 2, 3, 5, 6], [0, 1, 2, 3, 5, 6, 7], [0, 1, 2, 3, 5, 6, 7, 8], [0, 1, 2, 3, 5, 6, 7, 8, 9], [0, 1, 2, 3, 5, 6, 7, 9], [0, 1, 2, 3, 5, 6, 8], [0, 1, 2, 3, 5, 6, 8, 9], [0, 1, 2, 3, 5, 6, 9], [0, 1, 2, 3, 5, 7], [0, 1, 2, 3, 5, 7, 8], [0, 1, 2, 3, 5, 7, 8, 9], [0, 1, 2, 3, 5, 7, 9], [0, 1, 2, 3, 5, 8], [0, 1, 2, 3, 5, 8, 9], [0, 1, 2, 3, 5, 9], [0, 1, 2, 3, 6], [0, 1, 2, 3, 6, 7], [0, 1, 2, 3, 6, 7, 8], [0, 1, 2, 3, 6, 7, 8, 9], [0, 1, 2, 3, 6, 7, 9], [0, 1, 2, 3, 6, 8], [0, 1, 2, 3, 6, 8, 9], [0, 1, 2, 3, 6, 9], [0, 1, 2, 3, 7], [0, 1, 2, 3, 7, 8], [0, 1, 2, 3, 7, 8, 9], [0, 1, 2, 3, 7, 9], [0, 1, 2, 3, 8], [0, 1, 2, 3, 8, 9], [0, 1, 2, 3, 9], [0, 1, 2, 4], [0, 1, 2, 4, 5], [0, 1, 2, 4, 5, 6], [0, 1, 2, 4, 5, 6, 7], [0, 1, 2, 4, 5, 6, 7, 8], [0, 1, 2, 4, 5, 6, 7, 8, 9], [0, 1, 2, 4, 5, 6, 7, 9], [0, 1, 2, 4, 5, 6, 8], [0, 1, 2, 4, 5, 6, 8, 9], [0, 1, 2, 4, 5, 6, 9], [0, 1, 2, 4, 5, 7], [0, 1, 2, 4, 5, 7, 8], [0, 1, 2, 4, 5, 7, 8, 9], [0, 1, 2, 4, 5, 7, 9], [0, 1, 2, 4, 5, 8], [0, 1, 2, 4, 5, 8, 9], [0, 1, 2, 4, 5, 9], [0, 1, 2, 4, 6], [0, 1, 2, 4, 6, 7], [0, 1, 2, 4, 6, 7, 8], [0, 1, 2, 4, 6, 7, 8, 9], [0, 1, 2, 4, 6, 7, 9], [0, 1, 2, 4, 6, 8], [0, 1, 2, 4, 6, 8, 9], [0, 1, 2, 4, 6, 9], [0, 1, 2, 4, 7], [0, 1, 2, 4, 7, 8], [0, 1, 2, 4, 7, 8, 9], [0, 1, 2, 4, 7, 9], [0, 1, 2, 4, 8], [0, 1, 2, 4, 8, 9], [0, 1, 2, 4, 9], [0, 1, 2, 5], [0, 1, 2, 5, 6], [0, 1, 2, 5, 6, 7], [0, 1, 2, 5, 6, 7, 8], [0, 1, 2, 5, 6, 7, 8, 9], [0, 1, 2, 5, 6, 7, 9], [0, 1, 2, 5, 6, 8], [0, 1, 2, 5, 6, 8, 9], [0, 1, 2, 5, 6, 9], [0, 1, 2, 5, 7], [0, 1, 2, 5, 7, 8], [0, 1, 2, 5, 7, 8, 9], [0, 1, 2, 5, 7, 9], [0, 1, 2, 5, 8], [0, 1, 2, 5, 8, 9], [0, 1, 2, 5, 9], [0, 1, 2, 6], [0, 1, 2, 6, 7], [0, 1, 2, 6, 7, 8], [0, 1, 2, 6, 7, 8, 9], [0, 1, 2, 6, 7, 9], [0, 1, 2, 6, 8], [0, 1, 2, 6, 8, 9], [0, 1, 2, 6, 9], [0, 1, 2, 7], [0, 1, 2, 7, 8], [0, 1, 2, 7, 8, 9], [0, 1, 2, 7, 9], [0, 1, 2, 8], [0, 1, 2, 8, 9], [0, 1, 2, 9], [0, 1, 3], [0, 1, 3, 4], [0, 1, 3, 4, 5], [0, 1, 3, 4, 5, 6], [0, 1, 3, 4, 5, 6, 7], [0, 1, 3, 4, 5, 6, 7, 8], [0, 1, 3, 4, 5, 6, 7, 8, 9], [0, 1, 3, 4, 5, 6, 7, 9], [0, 1, 3, 4, 5, 6, 8], [0, 1, 3, 4, 5, 6, 8, 9], [0, 1, 3, 4, 5, 6, 9], [0, 1, 3, 4, 5, 7], [0, 1, 3, 4, 5, 7, 8], [0, 1, 3, 4, 5, 7, 8, 9], [0, 1, 3, 4, 5, 7, 9], [0, 1, 3, 4, 5, 8], [0, 1, 3, 4, 5, 8, 9], [0, 1, 3, 4, 5, 9], [0, 1, 3, 4, 6], [0, 1, 3, 4, 6, 7], [0, 1, 3, 4, 6, 7, 8], [0, 1, 3, 4, 6, 7, 8, 9], [0, 1, 3, 4, 6, 7, 9], [0, 1, 3, 4, 6, 8], [0, 1, 3, 4, 6, 8, 9], [0, 1, 3, 4, 6, 9], [0, 1, 3, 4, 7], [0, 1, 3, 4, 7, 8], [0, 1, 3, 4, 7, 8, 9], [0, 1, 3, 4, 7, 9], [0, 1, 3, 4, 8], [0, 1, 3, 4, 8, 9], [0, 1, 3, 4, 9], [0, 1, 3, 5], [0, 1, 3, 5, 6], [0, 1, 3, 5, 6, 7], [0, 1, 3, 5, 6, 7, 8], [0, 1, 3, 5, 6, 7, 8, 9], [0, 1, 3, 5, 6, 7, 9], [0, 1, 3, 5, 6, 8], [0, 1, 3, 5, 6, 8, 9], [0, 1, 3, 5, 6, 9], [0, 1, 3, 5, 7], [0, 1, 3, 5, 7, 8], [0, 1, 3, 5, 7, 8, 9], [0, 1, 3, 5, 7, 9], [0, 1, 3, 5, 8], [0, 1, 3, 5, 8, 9], [0, 1, 3, 5, 9], [0, 1, 3, 6], [0, 1, 3, 6, 7], [0, 1, 3, 6, 7, 8], [0, 1, 3, 6, 7, 8, 9], [0, 1, 3, 6, 7, 9], [0, 1, 3, 6, 8], [0, 1, 3, 6, 8, 9], [0, 1, 3, 6, 9], [0, 1, 3, 7], [0, 1, 3, 7, 8], [0, 1, 3, 7, 8, 9], [0, 1, 3, 7, 9], [0, 1, 3, 8], [0, 1, 3, 8, 9], [0, 1, 3, 9], [0, 1, 4], [0, 1, 4, 5], [0, 1, 4, 5, 6], [0, 1, 4, 5, 6, 7], [0, 1, 4, 5, 6, 7, 8], [0, 1, 4, 5, 6, 7, 8, 9], [0, 1, 4, 5, 6, 7, 9], [0, 1, 4, 5, 6, 8], [0, 1, 4, 5, 6, 8, 9], [0, 1, 4, 5, 6, 9], [0, 1, 4, 5, 7], [0, 1, 4, 5, 7, 8], [0, 1, 4, 5, 7, 8, 9], [0, 1, 4, 5, 7, 9], [0, 1, 4, 5, 8], [0, 1, 4, 5, 8, 9], [0, 1, 4, 5, 9], [0, 1, 4, 6], [0, 1, 4, 6, 7], [0, 1, 4, 6, 7, 8], [0, 1, 4, 6, 7, 8, 9], [0, 1, 4, 6, 7, 9], [0, 1, 4, 6, 8], [0, 1, 4, 6, 8, 9], [0, 1, 4, 6, 9], [0, 1, 4, 7], [0, 1, 4, 7, 8], [0, 1, 4, 7, 8, 9], [0, 1, 4, 7, 9], [0, 1, 4, 8], [0, 1, 4, 8, 9], [0, 1, 4, 9], [0, 1, 5], [0, 1, 5, 6], [0, 1, 5, 6, 7], [0, 1, 5, 6, 7, 8], [0, 1, 5, 6, 7, 8, 9], [0, 1, 5, 6, 7, 9], [0, 1, 5, 6, 8], [0, 1, 5, 6, 8, 9], [0, 1, 5, 6, 9], [0, 1, 5, 7], [0, 1, 5, 7, 8], [0, 1, 5, 7, 8, 9], [0, 1, 5, 7, 9], [0, 1, 5, 8], [0, 1, 5, 8, 9], [0, 1, 5, 9], [0, 1, 6], [0, 1, 6, 7], [0, 1, 6, 7, 8], [0, 1, 6, 7, 8, 9], [0, 1, 6, 7, 9], [0, 1, 6, 8], [0, 1, 6, 8, 9], [0, 1, 6, 9], [0, 1, 7], [0, 1, 7, 8], [0, 1, 7, 8, 9], [0, 1, 7, 9], [0, 1, 8], [0, 1, 8, 9], [0, 1, 9], [0, 2], [0, 2, 3], [0, 2, 3, 4], [0, 2, 3, 4, 5], [0, 2, 3, 4, 5, 6], [0, 2, 3, 4, 5, 6, 7], [0, 2, 3, 4, 5, 6, 7, 8], [0, 2, 3, 4, 5, 6, 7, 8, 9], [0, 2, 3, 4, 5, 6, 7, 9], [0, 2, 3, 4, 5, 6, 8], [0, 2, 3, 4, 5, 6, 8, 9], [0, 2, 3, 4, 5, 6, 9], [0, 2, 3, 4, 5, 7], [0, 2, 3, 4, 5, 7, 8], [0, 2, 3, 4, 5, 7, 8, 9], [0, 2, 3, 4, 5, 7, 9], [0, 2, 3, 4, 5, 8], [0, 2, 3, 4, 5, 8, 9], [0, 2, 3, 4, 5, 9], [0, 2, 3, 4, 6], [0, 2, 3, 4, 6, 7], [0, 2, 3, 4, 6, 7, 8], [0, 2, 3, 4, 6, 7, 8, 9], [0, 2, 3, 4, 6, 7, 9], [0, 2, 3, 4, 6, 8], [0, 2, 3, 4, 6, 8, 9], [0, 2, 3, 4, 6, 9], [0, 2, 3, 4, 7], [0, 2, 3, 4, 7, 8], [0, 2, 3, 4, 7, 8, 9], [0, 2, 3, 4, 7, 9], [0, 2, 3, 4, 8], [0, 2, 3, 4, 8, 9], [0, 2, 3, 4, 9], [0, 2, 3, 5], [0, 2, 3, 5, 6], [0, 2, 3, 5, 6, 7], [0, 2, 3, 5, 6, 7, 8], [0, 2, 3, 5, 6, 7, 8, 9], [0, 2, 3, 5, 6, 7, 9], [0, 2, 3, 5, 6, 8], [0, 2, 3, 5, 6, 8, 9], [0, 2, 3, 5, 6, 9], [0, 2, 3, 5, 7], [0, 2, 3, 5, 7, 8], [0, 2, 3, 5, 7, 8, 9], [0, 2, 3, 5, 7, 9], [0, 2, 3, 5, 8], [0, 2, 3, 5, 8, 9], [0, 2, 3, 5, 9], [0, 2, 3, 6], [0, 2, 3, 6, 7], [0, 2, 3, 6, 7, 8], [0, 2, 3, 6, 7, 8, 9], [0, 2, 3, 6, 7, 9], [0, 2, 3, 6, 8], [0, 2, 3, 6, 8, 9], [0, 2, 3, 6, 9], [0, 2, 3, 7], [0, 2, 3, 7, 8], [0, 2, 3, 7, 8, 9], [0, 2, 3, 7, 9], [0, 2, 3, 8], [0, 2, 3, 8, 9], [0, 2, 3, 9], [0, 2, 4], [0, 2, 4, 5], [0, 2, 4, 5, 6], [0, 2, 4, 5, 6, 7], [0, 2, 4, 5, 6, 7, 8], [0, 2, 4, 5, 6, 7, 8, 9], [0, 2, 4, 5, 6, 7, 9], [0, 2, 4, 5, 6, 8], [0, 2, 4, 5, 6, 8, 9], [0, 2, 4, 5, 6, 9], [0, 2, 4, 5, 7], [0, 2, 4, 5, 7, 8], [0, 2, 4, 5, 7, 8, 9], [0, 2, 4, 5, 7, 9], [0, 2, 4, 5, 8], [0, 2, 4, 5, 8, 9], [0, 2, 4, 5, 9], [0, 2, 4, 6], [0, 2, 4, 6, 7], [0, 2, 4, 6, 7, 8], [0, 2, 4, 6, 7, 8, 9], [0, 2, 4, 6, 7, 9], [0, 2, 4, 6, 8], [0, 2, 4, 6, 8, 9], [0, 2, 4, 6, 9], [0, 2, 4, 7], [0, 2, 4, 7, 8], [0, 2, 4, 7, 8, 9], [0, 2, 4, 7, 9], [0, 2, 4, 8], [0, 2, 4, 8, 9], [0, 2, 4, 9], [0, 2, 5], [0, 2, 5, 6], [0, 2, 5, 6, 7], [0, 2, 5, 6, 7, 8], [0, 2, 5, 6, 7, 8, 9], [0, 2, 5, 6, 7, 9], [0, 2, 5, 6, 8], [0, 2, 5, 6, 8, 9], [0, 2, 5, 6, 9], [0, 2, 5, 7], [0, 2, 5, 7, 8], [0, 2, 5, 7, 8, 9], [0, 2, 5, 7, 9], [0, 2, 5, 8], [0, 2, 5, 8, 9], [0, 2, 5, 9], [0, 2, 6], [0, 2, 6, 7], [0, 2, 6, 7, 8], [0, 2, 6, 7, 8, 9], [0, 2, 6, 7, 9], [0, 2, 6, 8], [0, 2, 6, 8, 9], [0, 2, 6, 9], [0, 2, 7], [0, 2, 7, 8], [0, 2, 7, 8, 9], [0, 2, 7, 9], [0, 2, 8], [0, 2, 8, 9], [0, 2, 9], [0, 3], [0, 3, 4], [0, 3, 4, 5], [0, 3, 4, 5, 6], [0, 3, 4, 5, 6, 7], [0, 3, 4, 5, 6, 7, 8], [0, 3, 4, 5, 6, 7, 8, 9], [0, 3, 4, 5, 6, 7, 9], [0, 3, 4, 5, 6, 8], [0, 3, 4, 5, 6, 8, 9], [0, 3, 4, 5, 6, 9], [0, 3, 4, 5, 7], [0, 3, 4, 5, 7, 8], [0, 3, 4, 5, 7, 8, 9], [0, 3, 4, 5, 7, 9], [0, 3, 4, 5, 8], [0, 3, 4, 5, 8, 9], [0, 3, 4, 5, 9], [0, 3, 4, 6], [0, 3, 4, 6, 7], [0, 3, 4, 6, 7, 8], [0, 3, 4, 6, 7, 8, 9], [0, 3, 4, 6, 7, 9], [0, 3, 4, 6, 8], [0, 3, 4, 6, 8, 9], [0, 3, 4, 6, 9], [0, 3, 4, 7], [0, 3, 4, 7, 8], [0, 3, 4, 7, 8, 9], [0, 3, 4, 7, 9], [0, 3, 4, 8], [0, 3, 4, 8, 9], [0, 3, 4, 9], [0, 3, 5], [0, 3, 5, 6], [0, 3, 5, 6, 7], [0, 3, 5, 6, 7, 8], [0, 3, 5, 6, 7, 8, 9], [0, 3, 5, 6, 7, 9], [0, 3, 5, 6, 8], [0, 3, 5, 6, 8, 9], [0, 3, 5, 6, 9], [0, 3, 5, 7], [0, 3, 5, 7, 8], [0, 3, 5, 7, 8, 9], [0, 3, 5, 7, 9], [0, 3, 5, 8], [0, 3, 5, 8, 9], [0, 3, 5, 9], [0, 3, 6], [0, 3, 6, 7], [0, 3, 6, 7, 8], [0, 3, 6, 7, 8, 9], [0, 3, 6, 7, 9], [0, 3, 6, 8], [0, 3, 6, 8, 9], [0, 3, 6, 9], [0, 3, 7], [0, 3, 7, 8], [0, 3, 7, 8, 9], [0, 3, 7, 9], [0, 3, 8], [0, 3, 8, 9], [0, 3, 9], [0, 4], [0, 4, 5], [0, 4, 5, 6], [0, 4, 5, 6, 7], [0, 4, 5, 6, 7, 8], [0, 4, 5, 6, 7, 8, 9], [0, 4, 5, 6, 7, 9], [0, 4, 5, 6, 8], [0, 4, 5, 6, 8, 9], [0, 4, 5, 6, 9], [0, 4, 5, 7], [0, 4, 5, 7, 8], [0, 4, 5, 7, 8, 9], [0, 4, 5, 7, 9], [0, 4, 5, 8], [0, 4, 5, 8, 9], [0, 4, 5, 9], [0, 4, 6], [0, 4, 6, 7], [0, 4, 6, 7, 8], [0, 4, 6, 7, 8, 9], [0, 4, 6, 7, 9], [0, 4, 6, 8], [0, 4, 6, 8, 9], [0, 4, 6, 9], [0, 4, 7], [0, 4, 7, 8], [0, 4, 7, 8, 9], [0, 4, 7, 9], [0, 4, 8], [0, 4, 8, 9], [0, 4, 9], [0, 5], [0, 5, 6], [0, 5, 6, 7], [0, 5, 6, 7, 8], [0, 5, 6, 7, 8, 9], [0, 5, 6, 7, 9], [0, 5, 6, 8], [0, 5, 6, 8, 9], [0, 5, 6, 9], [0, 5, 7], [0, 5, 7, 8], [0, 5, 7, 8, 9], [0, 5, 7, 9], [0, 5, 8], [0, 5, 8, 9], [0, 5, 9], [0, 6], [0, 6, 7], [0, 6, 7, 8], [0, 6, 7, 8, 9], [0, 6, 7, 9], [0, 6, 8], [0, 6, 8, 9], [0, 6, 9], [0, 7], [0, 7, 8], [0, 7, 8, 9], [0, 7, 9], [0, 8], [0, 8, 9], [0, 9], [1], [1, 2], [1, 2, 3], [1, 2, 3, 4], [1, 2, 3, 4, 5], [1, 2, 3, 4, 5, 6], [1, 2, 3, 4, 5, 6, 7], [1, 2, 3, 4, 5, 6, 7, 8], [1, 2, 3, 4, 5, 6, 7, 8, 9], [1, 2, 3, 4, 5, 6, 7, 9], [1, 2, 3, 4, 5, 6, 8], [1, 2, 3, 4, 5, 6, 8, 9], [1, 2, 3, 4, 5, 6, 9], [1, 2, 3, 4, 5, 7], [1, 2, 3, 4, 5, 7, 8], [1, 2, 3, 4, 5, 7, 8, 9], [1, 2, 3, 4, 5, 7, 9], [1, 2, 3, 4, 5, 8], [1, 2, 3, 4, 5, 8, 9], [1, 2, 3, 4, 5, 9], [1, 2, 3, 4, 6], [1, 2, 3, 4, 6, 7], [1, 2, 3, 4, 6, 7, 8], [1, 2, 3, 4, 6, 7, 8, 9], [1, 2, 3, 4, 6, 7, 9], [1, 2, 3, 4, 6, 8], [1, 2, 3, 4, 6, 8, 9], [1, 2, 3, 4, 6, 9], [1, 2, 3, 4, 7], [1, 2, 3, 4, 7, 8], [1, 2, 3, 4, 7, 8, 9], [1, 2, 3, 4, 7, 9], [1, 2, 3, 4, 8], [1, 2, 3, 4, 8, 9], [1, 2, 3, 4, 9], [1, 2, 3, 5], [1, 2, 3, 5, 6], [1, 2, 3, 5, 6, 7], [1, 2, 3, 5, 6, 7, 8], [1, 2, 3, 5, 6, 7, 8, 9], [1, 2, 3, 5, 6, 7, 9], [1, 2, 3, 5, 6, 8], [1, 2, 3, 5, 6, 8, 9], [1, 2, 3, 5, 6, 9], [1, 2, 3, 5, 7], [1, 2, 3, 5, 7, 8], [1, 2, 3, 5, 7, 8, 9], [1, 2, 3, 5, 7, 9], [1, 2, 3, 5, 8], [1, 2, 3, 5, 8, 9], [1, 2, 3, 5, 9], [1, 2, 3, 6], [1, 2, 3, 6, 7], [1, 2, 3, 6, 7, 8], [1, 2, 3, 6, 7, 8, 9], [1, 2, 3, 6, 7, 9], [1, 2, 3, 6, 8], [1, 2, 3, 6, 8, 9], [1, 2, 3, 6, 9], [1, 2, 3, 7], [1, 2, 3, 7, 8], [1, 2, 3, 7, 8, 9], [1, 2, 3, 7, 9], [1, 2, 3, 8], [1, 2, 3, 8, 9], [1, 2, 3, 9], [1, 2, 4], [1, 2, 4, 5], [1, 2, 4, 5, 6], [1, 2, 4, 5, 6, 7], [1, 2, 4, 5, 6, 7, 8], [1, 2, 4, 5, 6, 7, 8, 9], [1, 2, 4, 5, 6, 7, 9], [1, 2, 4, 5, 6, 8], [1, 2, 4, 5, 6, 8, 9], [1, 2, 4, 5, 6, 9], [1, 2, 4, 5, 7], [1, 2, 4, 5, 7, 8], [1, 2, 4, 5, 7, 8, 9], [1, 2, 4, 5, 7, 9], [1, 2, 4, 5, 8], [1, 2, 4, 5, 8, 9], [1, 2, 4, 5, 9], [1, 2, 4, 6], [1, 2, 4, 6, 7], [1, 2, 4, 6, 7, 8], [1, 2, 4, 6, 7, 8, 9], [1, 2, 4, 6, 7, 9], [1, 2, 4, 6, 8], [1, 2, 4, 6, 8, 9], [1, 2, 4, 6, 9], [1, 2, 4, 7], [1, 2, 4, 7, 8], [1, 2, 4, 7, 8, 9], [1, 2, 4, 7, 9], [1, 2, 4, 8], [1, 2, 4, 8, 9], [1, 2, 4, 9], [1, 2, 5], [1, 2, 5, 6], [1, 2, 5, 6, 7], [1, 2, 5, 6, 7, 8], [1, 2, 5, 6, 7, 8, 9], [1, 2, 5, 6, 7, 9], [1, 2, 5, 6, 8], [1, 2, 5, 6, 8, 9], [1, 2, 5, 6, 9], [1, 2, 5, 7], [1, 2, 5, 7, 8], [1, 2, 5, 7, 8, 9], [1, 2, 5, 7, 9], [1, 2, 5, 8], [1, 2, 5, 8, 9], [1, 2, 5, 9], [1, 2, 6], [1, 2, 6, 7], [1, 2, 6, 7, 8], [1, 2, 6, 7, 8, 9], [1, 2, 6, 7, 9], [1, 2, 6, 8], [1, 2, 6, 8, 9], [1, 2, 6, 9], [1, 2, 7], [1, 2, 7, 8], [1, 2, 7, 8, 9], [1, 2, 7, 9], [1, 2, 8], [1, 2, 8, 9], [1, 2, 9], [1, 3], [1, 3, 4], [1, 3, 4, 5], [1, 3, 4, 5, 6], [1, 3, 4, 5, 6, 7], [1, 3, 4, 5, 6, 7, 8], [1, 3, 4, 5, 6, 7, 8, 9], [1, 3, 4, 5, 6, 7, 9], [1, 3, 4, 5, 6, 8], [1, 3, 4, 5, 6, 8, 9], [1, 3, 4, 5, 6, 9], [1, 3, 4, 5, 7], [1, 3, 4, 5, 7, 8], [1, 3, 4, 5, 7, 8, 9], [1, 3, 4, 5, 7, 9], [1, 3, 4, 5, 8], [1, 3, 4, 5, 8, 9], [1, 3, 4, 5, 9], [1, 3, 4, 6], [1, 3, 4, 6, 7], [1, 3, 4, 6, 7, 8], [1, 3, 4, 6, 7, 8, 9], [1, 3, 4, 6, 7, 9], [1, 3, 4, 6, 8], [1, 3, 4, 6, 8, 9], [1, 3, 4, 6, 9], [1, 3, 4, 7], [1, 3, 4, 7, 8], [1, 3, 4, 7, 8, 9], [1, 3, 4, 7, 9], [1, 3, 4, 8], [1, 3, 4, 8, 9], [1, 3, 4, 9], [1, 3, 5], [1, 3, 5, 6], [1, 3, 5, 6, 7], [1, 3, 5, 6, 7, 8], [1, 3, 5, 6, 7, 8, 9], [1, 3, 5, 6, 7, 9], [1, 3, 5, 6, 8], [1, 3, 5, 6, 8, 9], [1, 3, 5, 6, 9], [1, 3, 5, 7], [1, 3, 5, 7, 8], [1, 3, 5, 7, 8, 9], [1, 3, 5, 7, 9], [1, 3, 5, 8], [1, 3, 5, 8, 9], [1, 3, 5, 9], [1, 3, 6], [1, 3, 6, 7], [1, 3, 6, 7, 8], [1, 3, 6, 7, 8, 9], [1, 3, 6, 7, 9], [1, 3, 6, 8], [1, 3, 6, 8, 9], [1, 3, 6, 9], [1, 3, 7], [1, 3, 7, 8], [1, 3, 7, 8, 9], [1, 3, 7, 9], [1, 3, 8], [1, 3, 8, 9], [1, 3, 9], [1, 4], [1, 4, 5], [1, 4, 5, 6], [1, 4, 5, 6, 7], [1, 4, 5, 6, 7, 8], [1, 4, 5, 6, 7, 8, 9], [1, 4, 5, 6, 7, 9], [1, 4, 5, 6, 8], [1, 4, 5, 6, 8, 9], [1, 4, 5, 6, 9], [1, 4, 5, 7], [1, 4, 5, 7, 8], [1, 4, 5, 7, 8, 9], [1, 4, 5, 7, 9], [1, 4, 5, 8], [1, 4, 5, 8, 9], [1, 4, 5, 9], [1, 4, 6], [1, 4, 6, 7], [1, 4, 6, 7, 8], [1, 4, 6, 7, 8, 9], [1, 4, 6, 7, 9], [1, 4, 6, 8], [1, 4, 6, 8, 9], [1, 4, 6, 9], [1, 4, 7], [1, 4, 7, 8], [1, 4, 7, 8, 9], [1, 4, 7, 9], [1, 4, 8], [1, 4, 8, 9], [1, 4, 9], [1, 5], [1, 5, 6], [1, 5, 6, 7], [1, 5, 6, 7, 8], [1, 5, 6, 7, 8, 9], [1, 5, 6, 7, 9], [1, 5, 6, 8], [1, 5, 6, 8, 9], [1, 5, 6, 9], [1, 5, 7], [1, 5, 7, 8], [1, 5, 7, 8, 9], [1, 5, 7, 9], [1, 5, 8], [1, 5, 8, 9], [1, 5, 9], [1, 6], [1, 6, 7], [1, 6, 7, 8], [1, 6, 7, 8, 9], [1, 6, 7, 9], [1, 6, 8], [1, 6, 8, 9], [1, 6, 9], [1, 7], [1, 7, 8], [1, 7, 8, 9], [1, 7, 9], [1, 8], [1, 8, 9], [1, 9], [2], [2, 3], [2, 3, 4], [2, 3, 4, 5], [2, 3, 4, 5, 6], [2, 3, 4, 5, 6, 7], [2, 3, 4, 5, 6, 7, 8], [2, 3, 4, 5, 6, 7, 8, 9], [2, 3, 4, 5, 6, 7, 9], [2, 3, 4, 5, 6, 8], [2, 3, 4, 5, 6, 8, 9], [2, 3, 4, 5, 6, 9], [2, 3, 4, 5, 7], [2, 3, 4, 5, 7, 8], [2, 3, 4, 5, 7, 8, 9], [2, 3, 4, 5, 7, 9], [2, 3, 4, 5, 8], [2, 3, 4, 5, 8, 9], [2, 3, 4, 5, 9], [2, 3, 4, 6], [2, 3, 4, 6, 7], [2, 3, 4, 6, 7, 8], [2, 3, 4, 6, 7, 8, 9], [2, 3, 4, 6, 7, 9], [2, 3, 4, 6, 8], [2, 3, 4, 6, 8, 9], [2, 3, 4, 6, 9], [2, 3, 4, 7], [2, 3, 4, 7, 8], [2, 3, 4, 7, 8, 9], [2, 3, 4, 7, 9], [2, 3, 4, 8], [2, 3, 4, 8, 9], [2, 3, 4, 9], [2, 3, 5], [2, 3, 5, 6], [2, 3, 5, 6, 7], [2, 3, 5, 6, 7, 8], [2, 3, 5, 6, 7, 8, 9], [2, 3, 5, 6, 7, 9], [2, 3, 5, 6, 8], [2, 3, 5, 6, 8, 9], [2, 3, 5, 6, 9], [2, 3, 5, 7], [2, 3, 5, 7, 8], [2, 3, 5, 7, 8, 9], [2, 3, 5, 7, 9], [2, 3, 5, 8], [2, 3, 5, 8, 9], [2, 3, 5, 9], [2, 3, 6], [2, 3, 6, 7], [2, 3, 6, 7, 8], [2, 3, 6, 7, 8, 9], [2, 3, 6, 7, 9], [2, 3, 6, 8], [2, 3, 6, 8, 9], [2, 3, 6, 9], [2, 3, 7], [2, 3, 7, 8], [2, 3, 7, 8, 9], [2, 3, 7, 9], [2, 3, 8], [2, 3, 8, 9], [2, 3, 9], [2, 4], [2, 4, 5], [2, 4, 5, 6], [2, 4, 5, 6, 7], [2, 4, 5, 6, 7, 8], [2, 4, 5, 6, 7, 8, 9], [2, 4, 5, 6, 7, 9], [2, 4, 5, 6, 8], [2, 4, 5, 6, 8, 9], [2, 4, 5, 6, 9], [2, 4, 5, 7], [2, 4, 5, 7, 8], [2, 4, 5, 7, 8, 9], [2, 4, 5, 7, 9], [2, 4, 5, 8], [2, 4, 5, 8, 9], [2, 4, 5, 9], [2, 4, 6], [2, 4, 6, 7], [2, 4, 6, 7, 8], [2, 4, 6, 7, 8, 9], [2, 4, 6, 7, 9], [2, 4, 6, 8], [2, 4, 6, 8, 9], [2, 4, 6, 9], [2, 4, 7], [2, 4, 7, 8], [2, 4, 7, 8, 9], [2, 4, 7, 9], [2, 4, 8], [2, 4, 8, 9], [2, 4, 9], [2, 5], [2, 5, 6], [2, 5, 6, 7], [2, 5, 6, 7, 8], [2, 5, 6, 7, 8, 9], [2, 5, 6, 7, 9], [2, 5, 6, 8], [2, 5, 6, 8, 9], [2, 5, 6, 9], [2, 5, 7], [2, 5, 7, 8], [2, 5, 7, 8, 9], [2, 5, 7, 9], [2, 5, 8], [2, 5, 8, 9], [2, 5, 9], [2, 6], [2, 6, 7], [2, 6, 7, 8], [2, 6, 7, 8, 9], [2, 6, 7, 9], [2, 6, 8], [2, 6, 8, 9], [2, 6, 9], [2, 7], [2, 7, 8], [2, 7, 8, 9], [2, 7, 9], [2, 8], [2, 8, 9], [2, 9], [3], [3, 4], [3, 4, 5], [3, 4, 5, 6], [3, 4, 5, 6, 7], [3, 4, 5, 6, 7, 8], [3, 4, 5, 6, 7, 8, 9], [3, 4, 5, 6, 7, 9], [3, 4, 5, 6, 8], [3, 4, 5, 6, 8, 9], [3, 4, 5, 6, 9], [3, 4, 5, 7], [3, 4, 5, 7, 8], [3, 4, 5, 7, 8, 9], [3, 4, 5, 7, 9], [3, 4, 5, 8], [3, 4, 5, 8, 9], [3, 4, 5, 9], [3, 4, 6], [3, 4, 6, 7], [3, 4, 6, 7, 8], [3, 4, 6, 7, 8, 9], [3, 4, 6, 7, 9], [3, 4, 6, 8], [3, 4, 6, 8, 9], [3, 4, 6, 9], [3, 4, 7], [3, 4, 7, 8], [3, 4, 7, 8, 9], [3, 4, 7, 9], [3, 4, 8], [3, 4, 8, 9], [3, 4, 9], [3, 5], [3, 5, 6], [3, 5, 6, 7], [3, 5, 6, 7, 8], [3, 5, 6, 7, 8, 9], [3, 5, 6, 7, 9], [3, 5, 6, 8], [3, 5, 6, 8, 9], [3, 5, 6, 9], [3, 5, 7], [3, 5, 7, 8], [3, 5, 7, 8, 9], [3, 5, 7, 9], [3, 5, 8], [3, 5, 8, 9], [3, 5, 9], [3, 6], [3, 6, 7], [3, 6, 7, 8], [3, 6, 7, 8, 9], [3, 6, 7, 9], [3, 6, 8], [3, 6, 8, 9], [3, 6, 9], [3, 7], [3, 7, 8], [3, 7, 8, 9], [3, 7, 9], [3, 8], [3, 8, 9], [3, 9], [4], [4, 5], [4, 5, 6], [4, 5, 6, 7], [4, 5, 6, 7, 8], [4, 5, 6, 7, 8, 9], [4, 5, 6, 7, 9], [4, 5, 6, 8], [4, 5, 6, 8, 9], [4, 5, 6, 9], [4, 5, 7], [4, 5, 7, 8], [4, 5, 7, 8, 9], [4, 5, 7, 9], [4, 5, 8], [4, 5, 8, 9], [4, 5, 9], [4, 6], [4, 6, 7], [4, 6, 7, 8], [4, 6, 7, 8, 9], [4, 6, 7, 9], [4, 6, 8], [4, 6, 8, 9], [4, 6, 9], [4, 7], [4, 7, 8], [4, 7, 8, 9], [4, 7, 9], [4, 8], [4, 8, 9], [4, 9], [5], [5, 6], [5, 6, 7], [5, 6, 7, 8], [5, 6, 7, 8, 9], [5, 6, 7, 9], [5, 6, 8], [5, 6, 8, 9], [5, 6, 9], [5, 7], [5, 7, 8], [5, 7, 8, 9], [5, 7, 9], [5, 8], [5, 8, 9], [5, 9], [6], [6, 7], [6, 7, 8], [6, 7, 8, 9], [6, 7, 9], [6, 8], [6, 8, 9], [6, 9], [7], [7, 8], [7, 8, 9], [7, 9], [8], [8, 9], [9]]\n",
            "1023\n"
          ],
          "name": "stdout"
        }
      ]
    },
    {
      "cell_type": "code",
      "metadata": {
        "colab": {
          "base_uri": "https://localhost:8080/"
        },
        "id": "rL4ZqMMEG600",
        "outputId": "d2e2f16b-0558-4f53-9403-afcc91091910"
      },
      "source": [
        "utility_matrix = np.zeros([len(act_set), len(class_set)])\n",
        "tol_i = 3 \n",
        "#tol_i = 0 with tol=0.5, tol_i = 1 with tol=0.6, tol_i = 2 with tol=0.7, tol_i = 3 with tol=0.8, tol_i = 4 with tol=0.9\n",
        "for i in range(len(act_set)):\n",
        "  intersec = class_set and act_set[i]\n",
        "  if len(intersec) == 1:\n",
        "    utility_matrix[i, intersec] = 1\n",
        "  \n",
        "  else:\n",
        "    for j in range(len(intersec)):\n",
        "      utility_matrix[i, intersec[j]] = locals()['weight'+str(len(intersec))][tol_i, 0]\n",
        "print (utility_matrix)"
      ],
      "execution_count": 40,
      "outputs": [
        {
          "output_type": "stream",
          "text": [
            "[[1.         0.         0.         ... 0.         0.         0.        ]\n",
            " [0.8        0.8        0.         ... 0.         0.         0.        ]\n",
            " [0.68208412 0.68208412 0.68208412 ... 0.         0.         0.        ]\n",
            " ...\n",
            " [0.         0.         0.         ... 0.         1.         0.        ]\n",
            " [0.         0.         0.         ... 0.         0.8        0.8       ]\n",
            " [0.         0.         0.         ... 0.         0.         1.        ]]\n"
          ],
          "name": "stdout"
        }
      ]
    },
    {
      "cell_type": "markdown",
      "metadata": {
        "id": "-HgXjy46KVuW"
      },
      "source": [
        "Let's build the evidential FitNet-4 classifier for set-valued classification. Compared to the classifier with only precise classification, the testing classifier have extra expected utilities for all imprecise assignments if considering all possible subsets. Thus, we can directly get the weights from the previous classifiers without extra training."
      ]
    },
    {
      "cell_type": "code",
      "metadata": {
        "colab": {
          "base_uri": "https://localhost:8080/"
        },
        "id": "JWJPNHxddFy5",
        "outputId": "eaca7eb4-f933-4fb1-928b-a94c68fa5d87"
      },
      "source": [
        "IMG_WIDTH = 32\n",
        "IMG_HEIGHT = 32\n",
        "IMG_CHANNELS = 3\n",
        "inputs_pixels = IMG_WIDTH * IMG_HEIGHT\n",
        "prototypes=200\n",
        "num_class=10\n",
        "number_act_set = len(act_set)\n",
        "\n",
        "inputs = tf.keras.layers.Input((IMG_HEIGHT, IMG_WIDTH, IMG_CHANNELS))\n",
        "\n",
        "#convolution stages\n",
        "c1_1 = tf.keras.layers.Conv2D(32, (3, 3), activation='relu', kernel_initializer='he_normal', padding='same')(inputs)\n",
        "c1_2 = tf.keras.layers.Conv2D(32, (3, 3), activation='relu', kernel_initializer='he_normal', padding='same')(c1_1)\n",
        "c1_3 = tf.keras.layers.Conv2D(32, (3, 3), activation='relu', kernel_initializer='he_normal', padding='same')(c1_2)\n",
        "c1_4 = tf.keras.layers.Conv2D(48, (3, 3), activation='relu', kernel_initializer='he_normal', padding='same')(c1_3)\n",
        "c1_5 = tf.keras.layers.Conv2D(48, (3, 3), activation='relu', kernel_initializer='he_normal', padding='same')(c1_4)\n",
        "bt1 = tf.keras.layers.BatchNormalization()(c1_5)\n",
        "p1 = tf.keras.layers.MaxPooling2D((2, 2))(bt1)\n",
        "dr1 = tf.keras.layers.Dropout(0.5)(p1)\n",
        "\n",
        "\n",
        "c2_1 = tf.keras.layers.Conv2D(80, (3, 3), activation='relu', kernel_initializer='he_normal', padding='same')(dr1)\n",
        "c2_2 = tf.keras.layers.Conv2D(80, (3, 3), activation='relu', kernel_initializer='he_normal', padding='same')(c2_1)\n",
        "c2_3 = tf.keras.layers.Conv2D(80, (3, 3), activation='relu', kernel_initializer='he_normal', padding='same')(c2_2)\n",
        "c2_4 = tf.keras.layers.Conv2D(80, (3, 3), activation='relu', kernel_initializer='he_normal', padding='same')(c2_3)\n",
        "c2_5 = tf.keras.layers.Conv2D(80, (3, 3), activation='relu', kernel_initializer='he_normal', padding='same')(c2_4)\n",
        "bt2 = tf.keras.layers.BatchNormalization()(c2_5)\n",
        "p2 = tf.keras.layers.MaxPooling2D((2, 2))(bt2)\n",
        "dr2 = tf.keras.layers.Dropout(0.5)(p2)\n",
        "\n",
        "c3_1 = tf.keras.layers.Conv2D(128, (3, 3), activation='relu', kernel_initializer='he_normal', padding='same')(dr2)\n",
        "c3_2 = tf.keras.layers.Conv2D(128, (3, 3), activation='relu', kernel_initializer='he_normal', padding='same')(c3_1)\n",
        "c3_3 = tf.keras.layers.Conv2D(128, (3, 3), activation='relu', kernel_initializer='he_normal', padding='same')(c3_2)\n",
        "c3_4 = tf.keras.layers.Conv2D(128, (3, 3), activation='relu', kernel_initializer='he_normal', padding='same')(c3_3)\n",
        "c3_5 = tf.keras.layers.Conv2D(128, (3, 3), activation='relu', kernel_initializer='he_normal', padding='same')(c3_4)\n",
        "bt3 = tf.keras.layers.BatchNormalization()(c3_5)\n",
        "p3 = tf.keras.layers.MaxPooling2D((8, 8))(bt3)\n",
        "dr3 = tf.keras.layers.Dropout(0.5)(p3)\n",
        "flatten1=tf.keras.layers.Flatten()(dr3)\n",
        "\n",
        "#DS layer\n",
        "ED = ds_layer.DS1(prototypes,128)(flatten1)\n",
        "ED_ac = ds_layer.DS1_activate(prototypes)(ED)\n",
        "mass_prototypes = ds_layer.DS2(prototypes, num_class)(ED_ac)\n",
        "mass_prototypes_omega = ds_layer.DS2_omega(prototypes, num_class)(mass_prototypes)\n",
        "mass_Dempster = ds_layer.DS3_Dempster(prototypes, num_class)(mass_prototypes_omega)\n",
        "mass_Dempster_normalize = ds_layer.DS3_normalize()(mass_Dempster)\n",
        "\n",
        "#Utility layer for testing\n",
        "outputs = utility_layer_test.DM_test(num_class, number_act_set, 0.9)(mass_Dempster_normalize)\n",
        "\n",
        "\n",
        "model_e_imprecise = tf.keras.Model(inputs=[inputs], outputs=[outputs])\n",
        "model_e_imprecise.compile(optimizer=keras.optimizers.Nadam(lr=0.001, beta_1=0.9, beta_2=0.999, epsilon=None, schedule_decay=0.004), \n",
        "              loss='CategoricalCrossentropy',\n",
        "              metrics=['accuracy'])\n",
        "model_e_imprecise.summary()"
      ],
      "execution_count": 41,
      "outputs": [
        {
          "output_type": "stream",
          "text": [
            "Model: \"model_26\"\n",
            "_________________________________________________________________\n",
            "Layer (type)                 Output Shape              Param #   \n",
            "=================================================================\n",
            "input_19 (InputLayer)        [(None, 32, 32, 3)]       0         \n",
            "_________________________________________________________________\n",
            "conv2d_105 (Conv2D)          (None, 32, 32, 32)        896       \n",
            "_________________________________________________________________\n",
            "conv2d_106 (Conv2D)          (None, 32, 32, 32)        9248      \n",
            "_________________________________________________________________\n",
            "conv2d_107 (Conv2D)          (None, 32, 32, 32)        9248      \n",
            "_________________________________________________________________\n",
            "conv2d_108 (Conv2D)          (None, 32, 32, 48)        13872     \n",
            "_________________________________________________________________\n",
            "conv2d_109 (Conv2D)          (None, 32, 32, 48)        20784     \n",
            "_________________________________________________________________\n",
            "batch_normalization_21 (Batc (None, 32, 32, 48)        192       \n",
            "_________________________________________________________________\n",
            "max_pooling2d_21 (MaxPooling (None, 16, 16, 48)        0         \n",
            "_________________________________________________________________\n",
            "dropout_21 (Dropout)         (None, 16, 16, 48)        0         \n",
            "_________________________________________________________________\n",
            "conv2d_110 (Conv2D)          (None, 16, 16, 80)        34640     \n",
            "_________________________________________________________________\n",
            "conv2d_111 (Conv2D)          (None, 16, 16, 80)        57680     \n",
            "_________________________________________________________________\n",
            "conv2d_112 (Conv2D)          (None, 16, 16, 80)        57680     \n",
            "_________________________________________________________________\n",
            "conv2d_113 (Conv2D)          (None, 16, 16, 80)        57680     \n",
            "_________________________________________________________________\n",
            "conv2d_114 (Conv2D)          (None, 16, 16, 80)        57680     \n",
            "_________________________________________________________________\n",
            "batch_normalization_22 (Batc (None, 16, 16, 80)        320       \n",
            "_________________________________________________________________\n",
            "max_pooling2d_22 (MaxPooling (None, 8, 8, 80)          0         \n",
            "_________________________________________________________________\n",
            "dropout_22 (Dropout)         (None, 8, 8, 80)          0         \n",
            "_________________________________________________________________\n",
            "conv2d_115 (Conv2D)          (None, 8, 8, 128)         92288     \n",
            "_________________________________________________________________\n",
            "conv2d_116 (Conv2D)          (None, 8, 8, 128)         147584    \n",
            "_________________________________________________________________\n",
            "conv2d_117 (Conv2D)          (None, 8, 8, 128)         147584    \n",
            "_________________________________________________________________\n",
            "conv2d_118 (Conv2D)          (None, 8, 8, 128)         147584    \n",
            "_________________________________________________________________\n",
            "conv2d_119 (Conv2D)          (None, 8, 8, 128)         147584    \n",
            "_________________________________________________________________\n",
            "batch_normalization_23 (Batc (None, 8, 8, 128)         512       \n",
            "_________________________________________________________________\n",
            "max_pooling2d_23 (MaxPooling (None, 1, 1, 128)         0         \n",
            "_________________________________________________________________\n",
            "dropout_23 (Dropout)         (None, 1, 1, 128)         0         \n",
            "_________________________________________________________________\n",
            "flatten_7 (Flatten)          (None, 128)               0         \n",
            "_________________________________________________________________\n",
            "d_s1_16 (DS1)                (None, 200)               25600     \n",
            "_________________________________________________________________\n",
            "d_s1_activate_16 (DS1_activa (None, 200)               400       \n",
            "_________________________________________________________________\n",
            "d_s2_16 (DS2)                (None, 200, 10)           2000      \n",
            "_________________________________________________________________\n",
            "d_s2_omega_16 (DS2_omega)    (None, 200, 11)           0         \n",
            "_________________________________________________________________\n",
            "d_s3__dempster_16 (DS3_Demps (None, 11)                0         \n",
            "_________________________________________________________________\n",
            "d_s3_normalize_16 (DS3_norma (None, 11)                0         \n",
            "_________________________________________________________________\n",
            "dm_test (DM_test)            (None, 1023)              10230     \n",
            "=================================================================\n",
            "Total params: 1,041,286\n",
            "Trainable params: 1,030,544\n",
            "Non-trainable params: 10,742\n",
            "_________________________________________________________________\n"
          ],
          "name": "stdout"
        }
      ]
    },
    {
      "cell_type": "code",
      "metadata": {
        "id": "3a46jzvkjH6N"
      },
      "source": [
        "model_e_imprecise.layers[-1].set_weights(tf.reshape(utility_matrix, [1, 1023, 10]))\n",
        "model_e_imprecise.load_weights('/content/gdrive/My Drive/cifar10_evidential/weights_zoo/evidential_DL_200_checkpoint')"
      ],
      "execution_count": null,
      "outputs": []
    },
    {
      "cell_type": "markdown",
      "metadata": {
        "id": "niM7_jS5o2bz"
      },
      "source": [
        "When the tolerance of imprecision equals to 0.8, the average utility is higher than the one in precise classification, and we can find some samples that are mis-classified in the precise classification are assigned into the multi-class sets, which includes the true labels, such as sample 37 and 128."
      ]
    },
    {
      "cell_type": "code",
      "metadata": {
        "colab": {
          "base_uri": "https://localhost:8080/"
        },
        "id": "aiHmgcs-jrcp",
        "outputId": "c3e3bfa4-10f3-4147-e2f7-fb122b83c661"
      },
      "source": [
        "resutls = tf.argmax(model_e_imprecise.predict(x_test),-1)\n",
        "imprecise_results =[]\n",
        "for i in range(len(resutls)):\n",
        "  act_local = resutls[i]\n",
        "  set_valued_results = act_set[act_local]\n",
        "  imprecise_results.append(set_valued_results)\n",
        "print (imprecise_results)\n",
        "average_utility_imprecision = AU_imprecision.average_utility(utility_matrix, resutls, y_test_label, act_set)\n",
        "print (average_utility_imprecision)"
      ],
      "execution_count": 45,
      "outputs": [
        {
          "output_type": "stream",
          "text": [
            "[[3], [8], [1], [0], [6], [6], [1], [2, 6, 9], [3], [1], [0], [9], [5], [7], [9], [8], [5], [7], [8], [6], [3, 7], [2], [4], [9], [4, 7], [2, 4, 7], [3], [0], [9], [6], [6], [5], [4, 6], [5], [9], [2, 6, 8], [4], [1], [9], [5], [0, 4], [6], [5], [6], [0], [9], [3], [9], [7], [6], [9], [8], [0], [3], [8], [8], [7], [3], [4], [0, 3, 4], [7], [7], [6], [3], [6], [2], [1], [2], [3], [7], [2], [6], [8], [8], [0], [2, 9], [9], [3], [5], [8], [8], [1], [1], [7], [2], [5], [2], [7], [8], [9], [0], [3], [8], [6], [4], [6], [6], [0], [0], [7], [4], [5], [6], [3], [1], [1], [3], [6], [8], [7], [4], [0], [6], [2], [1], [3], [0], [4], [2, 6], [7], [8], [3], [1], [2], [8], [0], [8], [3], [0, 4], [2], [4], [1], [8], [9], [1], [2], [9], [7], [2], [1], [6], [5], [6], [3], [8], [7], [6], [5], [5], [2], [8], [9], [6], [0], [0], [5], [2], [9], [2, 3], [4], [2], [1], [6], [6], [0], [4], [8], [4], [5], [8], [9], [0, 9], [9], [2, 6, 8], [9], [9], [3], [7], [5], [0], [0], [5], [2], [2], [3], [8], [2, 6], [3], [0, 3, 4], [0], [5], [8], [0, 4], [1], [7], [2, 9], [8], [8], [7], [8], [5], [1], [8], [7], [1], [3], [0], [5], [7], [9], [7], [0, 4], [5], [2, 8], [8], [2], [7], [9], [8], [2], [7], [6], [9], [4], [3], [9], [8], [4], [7], [6], [5], [1], [3], [8], [8], [0], [4], [0, 2, 9], [5], [5], [1], [1], [1, 8], [9], [0], [2, 3, 8], [1], [2, 8, 9], [2], [2], [5], [3], [9], [9], [4], [0, 8], [3], [0], [0], [9], [8], [1], [5], [7], [0], [8], [2], [4], [7], [0, 2], [2], [3], [6], [3], [8], [3], [0], [3], [4], [6], [9], [0], [6], [1], [0], [9], [1], [0], [7], [9], [1], [2, 9], [6], [9], [3], [4], [6], [0], [0], [6], [6], [6], [3], [2], [6], [1], [1, 8], [2], [1], [2], [8], [6], [0], [2], [4], [0], [7], [7], [5], [5], [3], [5], [2], [3], [4], [1], [7], [5], [4], [6], [1], [9], [3], [2, 6], [6], [9], [3], [8], [0], [7], [2], [6], [2], [5], [8], [5], [4], [6], [8], [9], [9], [1], [0], [2], [2], [4], [6], [2], [8], [0], [9], [5], [8], [1], [9], [4], [9], [3], [2, 6, 8], [1], [0, 4], [7], [9], [4], [2, 9], [7], [0, 2, 9], [7], [2, 6], [6], [6], [9], [0], [9], [5], [0, 8], [7], [2], [2], [5], [1], [2], [6], [2], [9], [6], [2], [3], [0], [3], [9], [1], [7], [8], [8], [4], [0], [1], [8], [2], [7], [9], [3], [6], [1], [9], [0], [7], [2, 3, 5], [7], [4], [5], [8], [0], [2], [9], [6], [3], [0], [6], [2], [5], [3], [7], [3], [7], [2], [5], [3], [1], [1], [4], [9], [9], [5], [7], [5], [0], [2], [0], [2], [9], [7], [3], [9], [5], [4], [5], [4], [2, 6], [5], [6], [1], [4], [3], [4], [4], [3], [7], [8], [5], [7], [8], [0, 8], [2, 5], [7], [6], [0, 9], [5], [4], [8], [6], [8], [3], [5], [9], [9], [9], [4], [0], [1], [0, 4, 7], [8], [1], [1], [8], [0], [2], [2], [0], [4], [6], [5], [4], [9], [4], [7], [9], [9], [4], [5], [6], [2, 6], [1], [5], [3], [8], [9], [4, 7], [8], [5], [7], [0], [7], [0], [5], [0], [0], [4], [6], [9], [0, 4], [9], [5], [6], [6], [6], [2], [8], [0], [1], [7], [6], [7], [5], [9], [1], [6], [2], [5], [3, 5], [3], [8], [5], [9], [4], [6], [4], [3], [2], [0], [7], [6], [0, 4], [2], [3], [9], [3, 7], [9], [2], [2, 6], [7], [1], [3], [6], [6], [8], [2, 9], [7], [5], [4], [0], [8], [4], [0], [9], [3], [4], [8], [9], [2, 6], [9], [2], [6], [1], [4], [7], [3], [2], [3], [8], [5], [0], [2], [1], [6], [4], [3], [3], [9], [6], [9], [8], [8], [5], [8], [6], [6], [0, 4], [1], [7], [7], [1], [2, 9], [7], [9], [9], [4], [4], [1], [2, 6, 8], [2, 5], [6], [8], [7], [6], [8], [3], [0], [5], [3], [3], [0], [7], [9], [1], [3], [4], [4], [5], [3], [9], [5], [6], [9], [2], [1], [1], [4], [1], [9], [4], [7], [6], [3], [0], [9], [0], [1], [3], [6], [4, 7], [2, 6, 8], [3], [2], [8], [3], [1], [0], [5], [1, 9], [6], [4], [0], [9], [2], [9], [6], [3], [0], [3], [2], [2], [7], [8], [3], [8], [2], [7], [5], [7], [2], [4], [8], [7], [4], [2], [9], [8], [2, 8], [2, 6], [0, 8], [2, 8], [7], [4], [2, 3], [3], [8], [4], [9], [4], [8], [8], [1], [8], [0], [1], [0], [6], [5], [4], [0], [7], [9], [1], [0], [1], [4], [1], [5], [2], [7], [0], [7], [2, 6, 9], [7], [3, 4, 6], [6], [2], [3], [9], [0, 2, 9], [9], [1], [2], [2], [6], [8], [2], [1], [3], [2, 6], [6], [0], [1], [2], [7], [0], [5], [4], [0, 2, 9], [1], [6], [4, 6], [0, 2, 9], [4], [2], [2, 6], [0], [5], [9], [1], [7], [6], [7], [0], [3], [9], [6], [8], [3], [0], [0], [4], [7], [7], [1, 2, 9], [4], [7], [6], [7], [1], [4], [7], [4], [4], [8], [4, 6], [7], [7], [2, 5], [2, 5], [7], [2], [0, 9], [8], [9], [2, 5], [8], [0], [2, 6], [2], [0], [8], [7], [3], [7], [6], [5], [3], [9], [3], [2], [2], [5], [4], [9], [2], [9], [2], [7], [0], [7], [2], [1], [0], [2], [0], [2], [4], [0], [9], [8], [1], [0], [7], [7], [0], [7], [8], [4, 7], [6], [3], [3], [0], [1], [3], [7], [0], [1], [3], [1], [4], [2], [3], [8], [4], [2], [3], [7], [8], [4], [0], [0], [1, 9], [0], [0, 9], [1], [1], [4], [4], [6], [7], [3], [1], [1], [3], [7], [3], [5], [2, 5], [6], [6], [5], [8], [7], [1], [6], [8], [8], [4], [3], [2, 6], [4], [0], [1], [4], [8], [8], [0], [6], [9], [9], [2, 9], [5], [3], [2, 6, 8], [6], [0], [0], [4], [2], [3], [2, 3], [7], [2], [2], [5], [9], [8], [9], [1], [7], [4, 6], [0], [3], [0], [1], [3], [8], [3], [9], [6], [1], [4], [7], [0], [2, 5], [7], [8], [9], [1], [1], [6], [6], [2, 6], [2, 3], [9], [1], [9], [9], [4], [2, 6], [1], [7], [0], [6], [8], [1], [9], [2], [9], [7], [4], [7], [8], [3], [1], [2], [0], [1], [5], [8], [3, 7], [2, 9], [3], [8], [1], [3], [8], [5], [0], [8], [4], [8], [1], [1], [8], [9], [6], [0], [8], [2, 6], [1], [3], [4], [1], [6], [0], [3, 7], [1], [1], [0], [0], [3], [5], [2, 6, 9], [0], [6], [6], [3], [0, 4], [6], [3], [3], [2, 6], [0, 4], [7], [2], [2], [2], [5], [5], [0], [8], [5], [2, 9], [1], [1], [1], [0, 3], [2, 9], [0], [3], [1], [5], [3], [7], [2, 6, 9], [8], [9], [1], [6], [4], [9], [3], [9], [0], [9], [6], [3], [2, 6], [8], [7], [2, 3], [8], [0, 8], [0], [0], [2, 6], [6], [6], [9], [2], [5], [4], [4], [6], [3], [6], [0], [8], [6], [0, 4], [2, 6], [2, 6], [7], [5], [1], [2], [4], [8], [8], [0], [9], [4], [9], [7], [2], [0], [2], [8], [4], [8], [9], [1], [5], [5], [7], [7], [5], [3], [8], [3], [3], [6], [0], [8], [4], [6], [7], [9], [2], [4], [1], [6], [9], [0, 9], [2, 3, 9], [8], [6], [1], [8], [6], [1], [4], [2], [9], [2], [7], [4, 6], [2, 6], [0], [8], [6], [9], [1], [7], [1], [8], [8], [0], [7], [5], [8], [0], [3], [3], [3], [7], [7], [9], [0, 4, 7], [3], [1], [9], [1], [9], [2, 6], [3], [3], [2], [1], [0], [3], [1], [4], [1], [0], [0], [1], [1], [6], [2, 3, 5], [4], [6], [2], [0], [7], [9], [8], [7], [2], [0], [6], [0, 8], [1], [4], [3], [7], [0], [2, 6], [1], [8], [5], [7], [8], [4], [8], [3], [2, 9], [9], [9], [8], [2, 4, 5, 7], [6], [6], [3], [2, 3], [1], [3], [9], [1], [4], [1], [5], [2, 5], [0], [1], [3], [2], [0, 8], [8], [8], [2, 5], [2, 6], [7], [2], [2], [4], [7], [2], [5], [8], [2], [4], [9], [2], [1], [8], [1], [9], [8], [8], [8], [1], [0], [4], [3], [3], [1], [8], [4, 7], [6], [3], [3], [2, 5], [2, 3], [2], [8], [5], [8], [9], [5], [8], [0, 9], [8], [9], [1], [2, 6, 9], [5], [9], [4], [4], [8], [0], [7], [2], [9], [0], [4], [1], [6], [4], [0, 4], [9], [1], [2], [5], [2, 6], [0], [2, 8], [6], [1], [9], [4], [5], [9], [5], [0], [7], [2], [0], [9], [4], [4], [6], [6], [5], [5], [2], [8], [1], [7], [2], [1], [4], [3], [6], [3, 7], [1], [0, 4], [7], [0], [9], [4], [3], [8], [2], [8], [4], [7], [2], [3], [1], [3], [2], [9], [8], [9], [7], [9], [5], [1], [4], [0], [8], [2, 9], [3], [8], [9], [1], [1], [3], [2], [4], [9], [3], [1], [7], [4], [6], [2], [8], [9], [5], [3], [9], [5], [5], [6], [7], [2], [4], [5], [3], [1], [2], [0], [0], [5], [4], [7], [6], [1], [1], [9], [8], [1], [0], [1], [3], [1], [1], [1], [7], [3], [9], [6], [8], [4], [6], [0, 8], [4], [9], [4], [7], [9], [7], [2, 6], [8], [4], [9], [4, 7], [0], [1], [6], [1], [5], [1, 9], [0], [4], [3], [4, 6], [1], [4], [0], [8], [4], [6], [2], [2], [6], [5], [3], [6], [7], [1], [1], [8], [2, 6], [0], [4], [0], [1], [9], [7], [1], [3], [5], [5], [8], [4, 7], [7], [3], [9], [7], [7], [7], [0, 2, 9], [1], [2], [8], [6], [4], [0], [7], [9], [8], [2], [8], [0, 4], [1], [1], [2, 9], [0, 2, 9], [0, 3], [8], [5], [8], [1], [3], [2], [3], [1], [2], [7], [2, 9], [8], [1], [8], [1], [8], [6], [0], [2], [4], [1], [3], [6], [7], [4], [4], [4], [3], [3], [4], [3], [2], [4], [3], [7], [8], [4], [4], [4], [2, 5], [4], [2], [2], [8], [4], [5], [5], [4], [1], [4], [2], [3], [9], [6], [4], [3], [4], [4], [0], [8], [8], [4], [5], [7], [5], [6], [9], [1], [6], [7], [2], [0], [1], [4, 7], [5], [6], [0, 9], [0], [2], [3], [3], [6], [0], [2, 6], [2, 3, 8], [9], [1], [4, 7], [7], [5], [2], [5], [6], [4], [1], [4], [3], [3], [3], [0], [3], [5], [5], [8], [9], [7], [3], [1], [3], [2, 4, 5], [3], [4], [4], [3], [3], [3], [1, 8], [1], [7], [7], [0], [2, 5, 7], [4], [5], [1], [4, 7], [2], [4], [3], [0, 9], [9], [4], [9], [9], [1], [8], [1], [6], [7], [2, 5], [5], [4], [9], [7], [6], [5], [9], [2, 6], [4], [0], [7], [8], [5], [5], [0], [0], [9], [9], [8], [0, 4], [5], [4], [8], [3], [6], [3], [6], [0], [2, 6], [6], [6], [9], [6], [4], [8], [6], [2], [4], [5], [8], [1], [2], [7], [6], [5], [7], [0, 8], [1, 8], [2], [0], [8], [6], [9], [0], [8], [9], [4], [0], [9], [0, 4, 7], [9], [5], [7], [5], [5], [9], [5], [3], [0], [1], [9], [3, 7], [2], [4], [1], [0], [1, 8], [0, 2], [4, 5], [1], [7], [8], [0], [4], [4, 7], [2, 6], [3], [4], [0], [0], [9], [0], [8], [4], [3], [1, 9], [3], [9], [0], [5], [2, 9], [5], [0], [1], [4], [8], [1], [0], [5], [2], [1], [0], [2], [8], [1], [5], [6], [7], [7], [5], [3], [2], [5], [0], [1], [4], [2], [5], [2], [3], [2, 6], [2], [1], [7], [2], [9], [5], [5], [3], [0], [4], [8], [5], [7], [6], [3], [8], [1], [0], [1], [3], [3], [0], [7], [2, 6], [9], [5], [3], [2, 6, 8], [0], [1], [4], [4], [4], [4], [2], [2, 5], [0, 4, 5, 7], [8], [1], [5], [9], [8], [1], [1], [7], [3], [1], [9], [3, 7], [6], [5], [0], [8], [4], [2, 9], [0], [9], [2], [8], [4], [4, 7, 8], [1], [2, 5], [9], [2, 6], [8], [9], [0], [4], [6, 9], [2, 6, 8], [7], [8], [1], [4], [8], [9], [4], [2], [5], [3], [7], [9], [0], [2, 9], [9], [5], [5], [8], [5], [0, 4, 7], [2], [8], [3], [4], [2], [7], [7], [8], [6], [7], [8], [2], [3], [5], [6], [8], [0], [2], [3], [7], [0], [1], [9], [1], [6], [2, 5], [3], [2, 9], [3], [2], [9], [6], [8], [6], [9], [3], [0], [9], [2, 8], [0, 4], [7], [8], [5], [0], [0], [1], [3], [9], [1], [5], [3], [4], [4], [0], [9], [9], [9], [9], [8], [2], [4], [2], [2], [5], [1], [3], [1], [0], [9], [4], [2], [1], [6], [0], [3], [2], [2], [3], [1], [0], [2], [5], [7], [2], [8], [4], [7], [8], [3], [5], [0], [5], [7], [4], [4], [2], [2], [7], [3, 7], [6], [0], [2], [7], [6], [2], [3], [0, 9], [7], [7], [2, 8], [9], [1], [4, 6], [2, 6], [0], [6], [6], [5], [5], [6], [3], [9], [3], [2, 6], [3], [7], [6], [4], [9], [5], [6], [4], [1], [6], [2, 3], [8], [2], [3], [9], [2, 6, 8], [5], [1], [5], [0, 4], [5], [7], [3], [4, 7], [8], [9], [1], [2], [2], [5], [6], [8], [4], [6], [5], [3], [9], [9], [8], [2, 5], [3], [2, 6], [4], [5], [9], [7], [3], [4], [1], [0], [2], [4], [6], [3], [5], [2], [8], [0], [0], [1], [8], [3], [1], [2, 3, 5], [5], [2, 8], [3], [8], [5], [8], [6], [3], [5], [5], [5], [0], [0, 2, 9], [5], [2, 5], [7], [1], [8], [0, 4], [2], [4, 7], [3, 5, 9], [4], [2], [9], [6], [2], [2], [4], [3], [0], [2, 6], [0], [1], [3], [2], [2], [7], [0], [1], [0], [7], [7], [0, 7], [2], [1], [6], [5], [0], [2, 9], [2], [0], [1], [2], [6], [0], [1], [6], [6], [5], [3], [4], [0], [0], [1], [1], [0], [2], [5], [9], [7], [8], [6], [4], [6], [0], [2], [0], [1], [9], [2], [6], [9], [0], [7], [2], [3], [4], [8], [0, 8], [2], [6], [8], [9], [7], [1], [9], [3], [7], [2], [7], [9], [6], [9], [0, 8], [7], [8], [5], [2, 9], [8], [3], [9], [0], [0], [3], [5], [7], [1], [0], [2], [7], [5], [8], [2], [2], [3], [3], [1, 8], [2, 5], [1], [9], [3], [1], [4], [0], [4], [4], [9], [0], [1], [3], [9], [2], [1], [2, 4, 5], [0], [2], [8], [4], [8], [2, 6], [8], [2], [2], [5], [9], [6], [9], [3], [1], [2, 3, 6], [4], [4], [2], [7], [2], [4], [2, 5], [0], [2], [8], [4], [5], [1], [2], [6], [8], [1], [7], [6], [8], [7], [4, 7], [3], [3], [3], [5], [7], [2], [2, 5], [2, 6], [1], [7], [1, 9], [0], [2, 3, 6], [4, 7], [9], [8], [0, 9], [5], [0, 8], [0], [7], [3], [3], [3], [8], [1], [4], [0], [1], [5], [4, 7], [3], [4], [6], [0], [8], [8], [2, 3, 6], [3], [3], [2], [9], [7], [2, 5], [1], [6], [0], [5], [9], [9], [4], [5], [9], [4, 7], [8], [3], [3], [2], [5], [1], [9], [5], [5], [1], [1], [8], [9], [7], [0], [3], [3], [2], [0], [2], [6], [9], [3], [9], [1], [3], [6], [7], [2], [6], [3], [2], [2, 5], [5], [2], [7], [5], [2, 8], [0], [8], [2], [7], [7], [1], [7], [4], [0], [4, 7], [2], [6], [1], [2, 5], [9], [7], [6], [2], [7], [0], [5], [6], [0], [1], [1], [8], [4], [5], [0], [1], [4], [4], [8], [9], [8], [1], [3, 4, 7], [2], [7], [0], [0, 2, 4], [2], [6], [7], [9], [4], [0], [1], [0], [4], [2, 5], [0], [8], [0], [7], [6], [1], [0, 8], [8], [5], [9], [4], [5], [4], [0, 4], [9], [0], [6], [1], [2], [5], [1], [6], [7], [1], [5], [8], [8], [0], [3], [9], [0, 4], [0], [6], [4], [9], [2], [4], [3], [0], [2, 6], [4, 6], [4], [6], [6], [7], [8], [3], [8], [8], [7], [2], [8], [0], [2], [5], [6], [8], [7], [2, 8], [9], [9], [0], [0], [6], [8], [1], [1], [7], [4, 6], [4], [2, 9], [2, 5], [6], [9], [2, 6], [2], [4], [1], [8], [2], [3, 4, 5], [1], [6], [8], [6], [8], [5], [9], [0], [1], [0], [0, 4], [9], [2, 9], [9], [2], [9], [7], [8], [5], [8], [6], [6], [8], [1], [6], [5], [8], [5], [1, 9], [2], [1], [6], [7], [5], [2, 6], [3], [0], [9], [8], [9], [5], [8], [9], [9], [3], [6], [4, 6], [4], [8], [8], [1], [7], [3], [0], [4, 6], [0, 9], [4], [1], [2], [2], [9], [2], [2], [9], [7], [4], [1], [3], [1], [0, 4], [3], [1, 8], [2, 5], [8], [9], [3], [2], [2], [0, 1], [2], [9], [0], [5], [1], [2, 5], [8], [2], [1], [0, 8], [3], [2], [4], [8], [4], [0], [6], [4], [2, 6], [9], [8], [4], [7], [6], [2], [4], [7], [7], [6], [0, 4], [2], [2], [3], [2], [4, 5], [9], [0], [0, 2], [1], [2, 6], [3], [8], [5], [2], [4], [8], [8], [6], [0, 4], [5], [7], [6], [3], [4], [0], [4], [0], [3], [8], [4, 7], [8], [0], [4], [2, 9], [3], [6], [2, 3, 6], [8], [1], [6], [0], [8], [4], [3], [1], [4], [5], [2], [4], [3], [6], [0], [7], [1], [3], [5], [7], [1], [8], [0], [4], [8], [2], [7], [7], [0], [2, 6], [2], [4], [3, 5], [3], [1, 9], [3], [1], [6], [4], [2, 6], [7], [4], [7], [0], [8], [1], [3, 7], [1], [4], [6], [2, 9], [5], [7], [4], [5], [4], [9], [7], [7], [2], [3], [3], [6], [7], [2], [1], [6], [1], [0], [6], [9], [6], [0, 8], [2], [0], [4, 6], [3, 6], [7], [0], [2], [0], [0], [0, 4, 7], [5], [3], [2], [7], [8], [5], [5], [2, 6], [2], [8], [9], [1], [2], [2], [0], [3], [4], [9], [1], [6], [9], [0], [0, 8], [3], [6], [4], [6], [7], [5], [1], [8], [9], [0], [5], [0], [5], [4], [3], [8], [5], [0, 3], [0], [8], [5], [9], [2], [5], [6], [5], [7], [3], [7], [2], [1, 8], [8], [4], [2], [1], [2, 6], [2], [9], [9], [8], [2, 9], [3], [1], [0], [5], [2], [4, 7], [3], [9], [5], [9], [1], [1], [3], [2], [7], [7], [4], [1], [9], [4], [3], [5], [2, 9], [7], [7], [6], [1], [3], [4], [7], [5], [4], [0], [7], [7], [0, 8], [0], [1], [5], [4], [3], [7], [9], [8], [7], [0], [9], [0], [3], [7], [6], [5], [8], [4], [5], [6], [5], [5], [4], [2], [9], [2], [5], [0, 9], [2], [0], [1], [1], [3], [7], [9], [5], [1], [6], [0], [3], [3], [7], [2, 6], [4], [5], [2], [3], [6], [0], [3], [0], [4], [1], [3], [8], [1], [2], [3], [2], [7], [1], [2], [5], [6], [8], [6], [6], [5], [4], [2], [9], [1, 8], [6], [2], [0], [4], [1, 9], [5], [5], [6], [6], [5], [6], [9], [4, 7], [9], [0, 4], [8], [3], [1], [9], [8], [1], [9], [0], [3], [0], [4], [7], [7], [2], [6], [5], [6], [9], [7], [7], [5], [7], [0], [8], [6], [2, 5], [8], [3], [8], [9], [5], [2], [9], [2], [7], [4], [1], [9], [7], [0], [0, 8], [1], [2, 6], [0], [2, 6], [5], [1], [4], [2], [8], [2], [8], [3], [2, 5], [1], [4], [9], [8], [1], [1], [0, 2, 9], [9], [9], [4], [6], [8], [5], [5], [2], [2], [0], [8], [5], [1], [9], [7], [9], [1], [3], [3], [1], [0], [3], [8], [9], [2], [0], [2, 9], [2], [0, 2, 9], [2, 9], [4, 7], [8], [3], [0], [7], [0], [7], [0, 2, 9], [5], [5], [4], [3], [0], [9], [9], [0], [2, 6], [7], [0], [8], [0, 2, 9], [4], [5], [2], [2], [1], [0, 4], [5], [3], [4], [3], [4], [0], [8], [4], [8], [5], [5], [4, 6], [5], [1], [7], [2], [4], [0], [5], [6], [8], [7], [6], [2, 3, 9], [1], [3, 7], [3], [6], [0, 4], [5], [5], [3], [1], [8], [7], [3], [0], [2, 6], [7], [1], [1], [9], [6], [7], [2, 6], [1], [2], [3], [9], [8], [3], [1], [7], [4], [8], [4], [7], [5], [8], [6], [2], [5], [0], [2, 6, 8], [2, 6], [4], [4], [9], [4, 6], [6], [1], [3], [7], [7], [9], [2], [1], [3], [1], [3], [2], [4], [0], [7], [1], [3], [1], [3], [2], [1], [8], [8], [1], [9], [3, 7], [3], [3], [2, 6], [9], [0], [6], [8], [4], [1], [5], [7], [0, 2], [4], [7], [0, 8], [4], [9], [0], [7], [0, 4], [2, 6], [7], [1], [8], [5], [8], [8], [7], [0], [0], [2, 3], [2], [2, 5], [7], [0], [6], [4], [4], [9], [1], [8], [6], [3], [9], [4], [9], [3], [3, 5], [7], [5], [9], [7], [7], [4], [5], [8], [2, 9], [8], [9], [5], [3], [1], [9], [3], [2], [0], [1], [1], [8], [1], [1], [0, 9], [8], [9], [9], [8], [2], [6], [9], [1], [9], [0, 9], [1, 2, 9], [9], [2], [0, 2, 9], [2, 9], [9], [0], [9], [9], [2], [1], [7], [0], [5], [6], [6], [9], [8], [3], [0], [2], [2], [7], [4], [8], [5], [0], [4], [2], [3], [5], [7], [6], [6], [6], [5], [6], [3], [4], [3, 5], [8], [8], [3], [0, 2, 9], [3, 5, 7], [9], [2, 9], [6], [9], [2, 6], [1], [3], [7], [8], [0], [3], [5], [4, 7], [7], [6], [9], [8], [2], [3], [9], [3], [3], [7], [8], [3], [2, 3, 5], [2, 3, 5], [1, 9], [6], [1], [4], [7], [4, 7], [8], [7], [7], [1], [3], [0], [3], [2], [5], [4], [9], [3], [5], [4], [7], [0], [3], [7], [0], [2], [1], [2, 5], [8], [7], [3], [5], [7], [8], [5], [7], [8], [1], [3], [4], [7], [0], [8], [3], [2], [0, 2, 9], [2], [4], [1], [6], [5], [9], [8], [5], [5], [4], [1], [0], [9], [4], [4, 6], [3], [0, 4], [2, 4, 8], [0, 2, 8], [0], [4, 8], [2], [9], [3], [9], [7], [7], [6], [3], [9], [2], [9], [3], [7], [7], [8], [2, 9], [2, 9], [0, 2, 8], [2], [5], [3], [6], [4], [7], [2], [2], [7], [8], [7], [2], [5], [9], [0, 4], [7], [0], [3], [6], [1], [0, 8], [2], [9], [7], [0, 4], [9], [1], [2, 6], [8], [1], [0, 4], [3], [3], [5], [4], [8], [9], [3, 7], [0, 4], [4], [1], [3], [4], [9], [2, 8], [7], [9], [3], [1], [2], [1], [6], [6], [6], [5], [7], [4], [5], [8], [5], [2], [8], [7], [8], [2], [3], [6], [1], [3, 5], [3], [9], [5], [1], [9], [0], [9], [0], [0], [2, 6, 8], [2], [4], [8], [5], [7], [6], [1], [2], [9], [4], [5], [0], [3], [3], [7], [4], [7], [1], [4], [5], [0], [2, 5], [8], [5], [0], [0], [6], [2], [0], [8], [4], [5], [4], [5], [6], [4], [7], [9], [4], [2, 3, 6], [0], [2, 6], [4], [2], [0], [2, 5], [4], [6], [1], [1], [5], [5], [2], [2], [6], [3], [4], [5], [0], [1], [3], [2], [0, 7, 9], [9], [6], [5], [0], [2], [9], [7], [1], [7], [2], [2], [0], [2, 8], [6], [4], [3], [2], [4], [7], [0], [4], [1], [6], [5], [1], [2, 9], [0, 4], [3], [9], [0], [0, 2, 9], [2], [0], [0, 2, 9], [4], [0], [1], [9], [8], [4], [9], [4], [3], [4], [3], [3], [4], [0], [4], [3], [5], [8], [9], [1], [5], [8], [1], [8], [2], [4], [4], [2], [4], [1], [1], [6], [6], [8], [5], [2], [2], [5], [0], [8], [2], [3], [6], [2], [9], [6], [1], [4], [5], [9], [0], [1], [7], [0], [8], [1], [1], [6], [6], [9], [5], [0, 4], [9], [7], [8], [6], [9], [1], [7], [6], [0], [9], [3], [2], [3], [2], [0], [3], [4], [9], [7], [1], [4], [4], [6], [1], [3], [8], [8], [5], [6], [5], [7], [4, 6], [7], [2], [3], [2, 5], [2, 5], [2, 6], [2], [7], [3, 6], [0, 4], [3], [6], [2, 9], [6], [3], [2, 9], [0], [9], [5], [1], [1], [5], [3], [2, 5], [4], [3], [2], [1], [0], [0, 4], [3], [5], [4], [8], [9], [3], [3], [1], [8], [0], [1], [3], [3], [4, 7], [4, 7], [2], [9], [7], [6], [8], [1], [8], [9], [9], [3], [1], [7], [3], [0], [0], [2], [0, 9], [5], [9], [2], [7], [4], [6], [0], [1], [6], [1], [6], [7], [5], [5], [2], [2, 5], [9], [4], [0], [2], [3], [4], [0, 9], [4], [1], [0], [0], [2], [3], [2, 5], [9], [2], [8], [9], [5], [7], [9], [1], [4], [2, 6], [2], [8], [3], [4], [8], [9], [3], [1], [1], [6], [3], [8], [4], [6], [4], [5], [2], [6], [4], [2], [3], [2, 9], [3], [6], [8], [5], [2], [2], [7], [1], [2, 6], [2], [5], [9], [4], [8], [1], [6], [9], [2], [7], [3], [3], [2], [9], [7], [0], [2], [9], [3], [4], [1], [7], [9], [5], [8], [9], [7], [3], [3], [0], [9], [7], [4], [2], [4], [7], [0], [1], [8], [1], [0], [4], [6], [1], [9], [9], [0], [1], [2], [5], [6], [9], [7], [7], [3], [4], [2], [0], [2], [5], [7], [7], [4], [7], [1], [4], [2], [0], [6], [1], [7], [5], [6], [5], [2, 5], [9], [2], [7], [8], [5], [9], [2], [8], [5], [4], [3], [7], [9], [8], [1], [2], [2], [8], [9], [3], [0], [8], [4, 7], [0], [2], [0], [1], [4, 6], [2, 9], [8], [5], [5], [7], [9], [2, 6, 8], [3], [7], [9], [1], [5], [6], [9], [9], [7], [2], [0, 8], [9], [0], [8], [5], [9], [2, 5], [2], [9], [8], [1], [9], [1], [8], [3], [7], [6], [4], [2, 9], [3], [7], [0], [3], [5], [8], [8], [8], [7], [9], [6], [2, 9], [7], [4], [5], [7], [6], [7], [1], [7], [3], [6], [8], [4], [6], [6], [7], [1], [3, 6], [9], [3, 7], [1], [7], [0], [1], [2, 6], [3], [2, 5, 7], [9], [0], [1], [2, 5], [5], [2], [2], [3], [4], [9], [8], [5], [4], [4], [9], [7], [6], [7], [3, 7], [1], [0], [3, 7], [5], [1], [9], [2, 6], [3], [3], [1], [5], [6], [6], [2], [4], [6], [8], [8], [9], [6], [2, 6], [1], [0], [7], [5], [8], [2], [1], [3], [8], [1], [4], [3], [5], [0], [3], [0], [9], [5], [2], [8], [4, 7], [1], [9], [0], [4], [4], [8], [2], [9], [0], [7], [9], [8], [7], [1], [6], [2], [9], [2, 9], [5], [9], [7], [6], [7], [7], [1], [1], [2], [4], [2], [0], [6], [8], [3], [6], [0, 2], [2], [9], [4, 7], [2], [4], [0], [0], [5], [8], [6], [8], [2], [7], [2, 8], [3], [1], [8], [1], [6], [5], [9], [7], [8], [9], [6], [5], [8], [1], [9], [4], [0], [4], [1], [4], [3], [6], [2], [2], [0], [0], [9], [7], [0], [7], [4], [3], [2], [7], [7], [4], [5], [4], [3], [3], [5], [4], [0], [0], [0], [7], [7], [1], [6], [5], [0], [7], [7], [4], [2, 6], [1], [8], [5], [9], [3], [5], [6], [5], [2], [7], [2, 3], [5], [8], [1], [0], [6], [8], [7], [8], [8], [5], [7], [5], [4], [9], [7], [3], [3], [8], [8], [4, 6], [9], [4], [7], [2], [0], [8], [0], [7], [0, 8], [3], [2, 6], [5], [2], [0, 4], [2, 3, 5], [0], [4], [8], [2, 6], [4], [0], [6], [4], [4, 7], [6], [0], [1, 8], [0, 8], [0], [6], [1], [1], [6], [1], [4], [2], [1], [2], [2], [4], [4], [0, 4], [3], [8], [2, 8], [5], [1], [8], [2], [2, 3], [3], [9], [6], [6], [3], [0], [7], [3], [3], [2], [7], [4], [5], [6], [0], [2], [1], [8], [1], [0], [9], [3, 5], [1], [0], [5], [0, 4], [0, 4], [3], [3], [6], [7], [2, 6], [0], [0], [5], [7], [4], [7], [7], [0], [6], [1], [3], [9], [0, 9], [9], [0], [3], [8], [4], [0, 8], [8], [4], [1], [0], [2], [2], [4], [1], [1], [2], [4], [3], [4], [1], [4], [7], [1], [0], [0], [9], [0], [4], [2], [8], [8], [5], [5], [0], [4], [0], [8], [6], [2], [5], [9], [2], [9], [1], [1], [2, 5], [4], [7], [5], [8], [6], [7], [1], [5], [5], [5], [4], [1], [0], [9], [9], [8], [9], [8], [6], [8], [5], [8], [9], [4], [6], [2], [6], [3], [0, 4, 7], [4], [0], [0], [1], [7], [5], [1], [5], [1], [3], [1], [2, 6], [0, 8], [2], [2, 9], [6], [9], [1], [2, 9], [9], [1], [7], [2], [6], [1], [9], [0], [0], [1], [9], [9], [0], [8], [4, 6], [5], [2, 3, 5], [3], [0], [3], [3], [0], [4], [4], [7], [5], [0, 4], [1], [0], [8], [8], [1], [2], [1], [5], [4], [5], [9], [6], [7], [1], [0], [6], [9], [2, 9], [7], [7], [3], [9], [9], [1], [9], [7], [0], [1], [3], [5], [4], [6], [3], [8], [0, 8], [0], [4], [8], [3], [6], [3], [3], [0], [3], [5], [2], [6], [8], [4], [9], [9], [9], [2, 6], [0], [4, 6], [2, 9], [8], [1], [1], [0], [0], [0, 3], [0, 4, 7], [4], [1], [1], [9], [7], [7], [4], [6], [8], [6], [0], [2], [8], [5], [2], [5], [3], [5], [7], [9], [8], [4], [4], [3], [1], [4], [8], [4], [2, 6], [5], [3], [8], [8], [9], [5], [7], [6], [2], [0], [0, 4], [9], [9], [0], [5], [2], [3], [2, 6], [1], [1], [0], [2], [8], [2], [1], [1], [7], [5], [2], [3], [4], [1], [2], [9], [2], [1], [0, 2, 9], [4], [8], [9], [0], [0], [4], [1], [0], [2], [2], [0], [6], [8], [7], [3], [3], [8], [9], [0], [2, 5], [0], [3], [6], [1], [3], [9], [5], [0], [5], [4], [4], [0, 8], [1], [0, 3], [2], [1], [7], [9], [9], [2, 6], [2], [4], [3, 7], [1, 8], [3], [4], [7], [0], [2, 5], [8], [2], [8], [5], [8], [8], [8], [3], [3], [7], [7], [3], [0], [4], [1], [5], [9], [7], [0], [2, 6], [8], [4], [9], [0], [1], [8], [9], [6], [3], [9], [2], [4], [4], [0], [5], [3], [3, 4, 7], [4], [5], [1], [1], [8], [2], [2], [9], [3], [7], [8], [9], [2], [3], [1], [7], [3], [0], [2, 4, 5], [0, 4], [1], [9], [5], [5], [3], [4], [3], [2, 6, 8], [0], [0], [3], [1], [3], [4], [7], [4], [2], [8], [4], [8], [9], [9], [4], [2], [4], [3], [2, 6], [4], [6], [4], [6], [6], [3, 7], [8], [7], [4], [8], [0, 2, 9], [5], [9], [3], [0, 2, 9], [0], [7], [5], [1], [9], [7], [9], [1], [1], [4], [2], [1], [6], [4], [3], [3], [1], [4], [9], [6], [1], [5], [1], [5], [4], [4], [3], [3], [9], [7], [8], [2], [5], [4], [4], [5], [4], [2, 5], [7], [2], [5], [3], [1], [5], [7], [8], [3], [6], [0], [2], [5], [2], [2, 5], [7], [4], [2], [1], [6], [8], [6], [8], [3], [2], [7], [7], [9], [7], [1], [4], [7], [3], [2, 6], [1], [5], [3], [0], [0], [6], [6], [8], [6], [6], [0], [3], [4], [7], [4], [1, 8], [4, 7], [9], [9], [3], [4], [1], [4], [0, 8], [3], [7], [1], [2], [2], [0, 8], [4], [7], [8], [5], [5], [6], [5], [6], [0], [6], [4], [9], [4], [2], [7], [3], [8], [3], [9], [4], [1], [6], [9], [9], [4], [3], [9], [0, 8], [1], [6], [9], [5], [1], [0], [9], [7], [2, 5], [2, 5], [4], [2, 6], [6], [4], [8], [1], [9], [5], [6], [3], [1], [8], [6], [0], [7], [6], [5], [0, 2, 9], [3], [2, 9], [6], [1], [2, 9], [2], [1], [2, 6], [4], [9], [0], [4, 7, 8], [9], [1], [0], [5], [3], [1], [6], [9], [8], [9], [0], [6], [1], [6], [2], [3], [5], [6], [1], [0], [7], [2], [4], [0, 8], [3], [2, 6, 8], [8], [6], [9], [1], [2, 9], [0], [2, 6, 9], [2], [3], [9], [5], [0, 4, 7], [1], [9], [2], [0], [7], [3], [5], [1], [8], [2, 3], [0], [5], [2], [9], [8], [0], [9], [6], [0], [3], [5], [3], [4], [1], [3], [0], [7], [3], [9], [4], [5], [3], [1], [4], [2, 6], [4], [9], [9], [7], [1], [7], [0], [1], [2], [1], [5], [3], [2, 6, 8], [4], [1], [3], [1], [9], [9], [7], [0], [1], [7], [6], [2], [6], [5], [0], [0, 3], [1], [0], [8], [9], [9], [0], [8], [8], [7], [9], [2], [9], [1], [3], [6], [7], [6], [0], [8], [6], [2], [4], [2], [3], [5], [5], [4], [1], [6], [4], [1], [2, 6], [1], [7], [1], [2, 6], [2], [3], [0], [4], [2, 6], [9], [7], [3], [5], [6], [0], [0, 2, 9], [8], [1], [1], [3], [5], [2, 6], [3], [3], [8], [7], [2, 5], [0, 9], [7], [7], [5], [7], [1], [9], [9], [1], [1], [9], [3], [5], [3], [3], [0], [9], [0], [6], [6], [2, 5], [6], [8], [9], [4], [2, 5], [1], [1], [2], [2, 6], [9], [0], [1], [2], [5], [4], [4], [7], [4], [8], [3], [2], [4, 7], [4], [5], [7], [0], [1], [2], [9], [2, 6, 8], [1], [5, 7], [3], [5], [9], [1], [9], [1], [9], [3, 7], [6], [7], [4], [0, 8], [3], [2, 5], [6], [7], [0], [1], [7], [7], [3], [2, 5], [3], [2, 5], [1], [7], [6], [0, 8], [4], [4], [5], [4, 7], [3], [4], [7], [7], [3], [6], [0, 2, 9], [7], [2], [6], [7], [4], [1], [8], [0], [2], [2, 6], [1], [5], [4], [0], [9], [3], [0, 8], [4], [2], [3], [8], [5], [0], [0], [4], [6], [3], [9], [2], [0], [5], [7], [5], [5], [1], [7], [3], [1], [2, 6], [7], [9], [0], [1], [2], [1], [4], [6], [1], [5], [9], [5], [0], [4], [9], [4], [9], [7], [1], [2, 6], [8], [0], [6], [5], [2], [8], [1], [7], [5], [6], [9], [3, 8], [2], [3], [9], [8], [6], [1], [0, 2, 9], [9], [0, 8], [9], [8], [7], [7], [2], [2, 5], [3], [5], [3, 5], [7], [2, 8], [7], [2, 5], [9], [1], [9], [8], [6], [5], [6], [7], [0, 3, 7], [6], [7], [2], [0], [9], [6], [6], [7], [0], [1], [0, 4], [1], [3], [4, 6], [8], [6], [1], [2], [2, 5], [1], [9], [9], [8], [6], [8], [3], [8], [9], [2, 5], [4], [0], [3], [3], [6], [4], [0, 2, 9], [9], [7], [0, 4], [3], [5], [2, 6], [4], [6], [0], [3], [3], [5], [0], [2, 6], [0], [2], [7], [2], [9], [2], [4], [0], [2, 6], [6], [3], [4], [5], [5], [9], [1], [9], [4], [2, 5], [3], [5], [4], [8], [0], [0], [3], [9], [2], [7], [4, 7], [2], [8], [3], [6], [3], [1], [9], [6], [3], [0, 8], [3], [3], [4], [7], [2, 5], [0, 4, 7], [7], [2], [1], [2], [6], [1], [5], [2, 9], [0], [7], [5], [0], [0], [0], [1], [2, 6], [3], [3], [8], [4], [3], [1], [7], [1, 6, 9], [0], [4], [0], [4], [1], [4], [0], [1], [2], [1], [7], [7], [9], [8], [7], [5], [4, 7], [0], [9], [0], [0], [8], [2], [0], [0], [2, 9], [0, 4], [8], [6], [2], [4, 7], [6], [3], [5], [1], [3], [0, 2, 9], [7], [2], [2], [9], [8], [0], [0], [0], [3], [4], [4], [6], [1], [6], [4, 7], [4], [4], [2, 5], [9], [4], [0], [8], [0], [4], [6], [2, 5], [7], [9], [7], [0], [5], [7], [7], [3], [1], [9], [2, 5], [2], [9], [5], [3], [7], [9], [4], [4, 7], [9], [7], [7], [1], [4, 7], [1], [4, 7], [8], [7], [4], [0], [4], [7], [2], [9], [7], [6], [9], [3], [5], [1, 8], [0], [3, 7], [6], [8], [3], [2], [4], [7], [1], [1], [3], [9], [7], [0, 2], [1], [0, 2, 8], [8], [7], [0], [1], [6], [9], [3], [2], [7], [7], [8], [1], [0], [3], [2, 5], [6], [7], [3, 5], [2], [0], [1], [5], [2, 5], [1], [4], [1], [3], [0], [8], [2, 6], [2, 5], [1], [4, 6], [6], [4, 7], [1], [9], [0], [4], [1], [0], [1], [9], [0, 8], [6], [9], [2], [4], [7], [2], [0], [7], [4, 7], [9], [1], [2, 5], [2, 6], [6], [3], [4, 6], [4], [1], [4, 7], [8], [2], [6], [6], [1], [6], [5], [6], [3], [8], [4], [6], [7], [1], [9], [5], [6], [4, 7], [6], [0], [7], [1], [9], [3], [2], [4, 6], [7], [7], [6], [5], [9], [1], [5], [6], [0], [2], [2], [9], [1], [8], [4, 6], [3], [3], [0], [0], [5], [7], [7], [2, 8], [5], [3], [5], [1], [6], [1], [3], [1], [0], [6], [2], [3], [2], [1], [3, 7], [5], [1], [9], [8], [3], [4], [9], [7], [3], [0], [2], [6], [9], [4], [4], [3], [9], [6], [8], [6], [6], [8], [2, 5], [4], [5], [6], [7], [7], [4], [6], [9], [6], [2], [4], [0], [1], [3], [6], [4], [9], [2], [2, 6], [0], [3, 7], [8], [7], [5], [3], [3], [8], [2, 5], [2, 9], [6], [3], [6], [2, 5], [7], [4], [5], [7], [9], [0], [0, 4], [6], [7], [0, 2, 9], [0], [3], [5], [7], [5], [5], [2, 9], [4], [6], [4], [2, 5], [3], [5], [6], [4], [1], [6], [3], [1], [6], [7], [0], [5], [0, 2], [1], [9], [7], [3], [5], [2], [3], [2, 9], [5], [6], [2], [0], [0], [0], [0, 8], [0], [3], [2], [4, 6], [5], [3], [7], [9], [6], [9], [3], [1], [2], [2], [7], [4], [5], [1], [3], [7], [2, 6], [9], [5], [8], [5], [8], [5], [8], [5], [6], [5], [0], [8], [6], [1, 8], [1], [8], [1], [5], [0], [9], [0, 8], [6], [3], [6], [2, 5], [4], [5], [7], [4, 7], [7], [4], [3], [2, 3], [4], [4], [5], [7], [5], [0, 4], [5], [8], [0], [5], [4], [0], [5], [4], [3], [2], [2], [0, 4], [2, 5], [9], [4], [8], [8], [6], [0], [6], [1], [7], [0], [4], [3], [8], [5], [9], [7], [4, 6], [4], [1], [0], [2], [3], [5], [6], [7], [1], [6], [2, 9], [8], [3], [5], [2], [5], [7], [5], [7], [7], [1], [7], [4], [0], [3], [4], [0], [4], [2], [7], [0], [2, 5], [2], [6], [6], [2, 9], [5], [2, 6], [6], [0], [6], [1], [5], [9], [0], [0], [1], [3], [5], [1], [6], [7], [8], [4, 8], [6], [3], [3], [6], [0], [9], [9], [2], [2], [6], [1], [4], [6], [2], [5], [7], [8], [8], [3], [6], [3], [0], [2], [3], [4], [4], [4], [8], [9], [2], [6], [0], [9], [7], [9], [8], [7], [7], [3], [8], [2], [9], [3], [0, 3, 4, 7], [7], [5], [8], [7], [3], [7], [0, 4], [7], [1], [6], [2], [4, 7], [3], [0], [2], [9], [1], [2], [8], [0, 4], [4], [5], [2, 5], [0], [1], [2], [9], [6], [1], [0], [1], [0, 8], [6], [5], [0], [5], [7], [4], [0, 4], [8], [3], [5], [3], [7], [2], [5, 7], [8], [3], [5], [7], [3], [4, 7], [0], [5], [4], [5], [2, 6], [9], [3], [5], [4], [8], [2], [4], [2], [2, 9], [4, 6], [7], [6], [0], [5], [5], [8], [4, 7], [5], [6], [1], [3], [5], [4], [7], [3], [0], [7], [2], [8], [1], [2], [4], [9], [6], [4], [5], [9], [7], [4, 7], [2], [7], [4], [3], [1], [6], [9], [4], [8], [0], [5], [9], [4, 6], [4], [4], [3], [1], [4], [6], [3], [0], [8], [9], [7], [6], [9], [4], [2, 6, 8], [1], [2], [5], [9], [0, 4], [7], [1], [4], [5], [0, 4], [1, 9], [3], [6], [4], [7], [1], [5], [9], [4], [1], [0, 4], [2, 8], [7], [7], [0], [0, 4], [5], [4], [6], [7], [7], [2, 5], [4], [4], [4], [3], [6], [6], [1], [9], [9], [7], [9], [4], [3], [2], [9], [8], [5], [0], [6], [9], [0], [9], [7], [8], [5], [4], [4], [9], [4], [2, 6], [6], [6], [9], [9], [7], [9], [9], [0], [5], [1], [1], [0, 8], [6], [9], [9], [5], [6], [5], [5], [9], [7], [9], [4], [5], [4], [3], [3], [9], [8], [0, 8], [5], [7], [8], [4, 7], [0], [2], [0], [7], [2], [8], [0, 9], [2], [0], [7], [4], [0], [6], [2], [3], [1, 9], [4, 7], [4], [6], [3], [0], [4], [9], [5], [6], [6], [3], [0], [3, 5], [2], [4, 6], [3], [3], [0], [0], [8], [5], [4], [2], [9], [5], [0], [5], [4], [1, 8], [2], [1, 8], [6], [2], [7], [8], [2], [0], [1], [8], [2], [4], [8], [4], [3], [0], [4], [0], [1], [9], [3], [0], [3], [4, 6], [5], [5], [2], [8], [3], [0], [9], [4], [5], [2], [4], [3], [7], [0], [2], [3], [1], [0], [0], [6], [1], [2], [1], [4], [2, 6], [7], [1], [0], [5], [2], [5], [9], [2, 9], [5], [6], [7], [1], [9], [3], [6], [1], [0], [2], [9], [4], [2], [9], [4], [8], [2], [9], [8], [5], [1], [0], [1], [5], [2], [5], [6], [8], [0, 8], [3], [2, 5], [0], [0, 4], [1], [3], [7], [0], [3], [4], [9], [2], [3], [9], [9], [8], [5], [9], [5], [5], [1, 2, 3, 9], [9], [4], [7], [1], [3], [6], [4, 7], [4], [8], [9], [0], [7], [1], [2], [4], [2, 9], [3], [7], [5], [1], [1, 8], [3], [5], [2], [4], [1], [1], [5], [3], [9], [2], [5], [0, 8], [8], [8], [1], [5], [1], [5], [9], [0], [9], [2], [4], [0], [6], [9], [1], [1], [3], [3], [9], [5], [3], [3], [2, 6], [3], [4], [1], [2, 3], [9], [8], [7], [2, 5], [8], [7], [3], [5], [2], [5], [2, 8], [2, 9], [7], [2], [0], [0], [7], [5], [3], [5], [7], [4, 7], [6], [2], [8], [2, 6], [7], [2, 6], [6], [1], [3], [8], [6], [2, 9], [0], [4], [2, 4], [8], [2], [4], [0], [2, 9], [5], [4], [1], [2], [4], [4], [6], [9], [2], [0], [5], [2], [2], [8], [2], [4, 6], [4], [7], [9], [5], [7], [2], [2, 6], [2], [1], [9], [9], [7], [2], [5], [1], [2, 8], [1], [6], [3], [0], [8], [8], [5], [6], [9], [9], [9], [6], [3], [0], [8], [8], [5], [3], [4], [1], [1], [0], [7], [0], [4, 6], [0], [4], [4], [2, 6], [5], [3], [2], [9], [6], [6], [7], [9], [7], [7], [0, 4], [8], [4], [2], [7], [7], [7], [4], [0], [1, 8], [6], [0], [5], [3], [2], [2], [4], [9], [7], [3, 6], [3], [2], [8], [8], [5], [3], [8], [0], [8], [0], [0], [0], [2], [2], [7], [0], [7], [7], [7], [2], [2], [0], [4], [0], [2], [7], [8], [4], [7], [9], [6], [9], [1], [6], [9], [3], [8], [9], [5], [1, 8], [3], [1, 9], [4, 5], [3], [7], [5], [5], [2, 9], [3, 7], [5], [7], [9], [6], [3], [0, 8], [8], [4, 6], [5], [6], [1], [0, 8], [7], [8], [4], [7], [1], [3], [2], [0], [9], [1], [8], [9], [6], [8], [1], [7], [1], [0], [1], [7], [6], [4], [4], [8], [2], [1], [2], [6], [8], [1], [1], [8], [8], [8], [9], [0], [0], [5], [3], [3], [5], [6], [2, 6], [3], [1], [4], [4], [7], [8], [0], [1], [2, 6], [8], [4], [6], [2], [2], [2, 9], [6], [3], [4], [0], [8], [1], [3], [2, 8], [3], [8], [1, 8], [1], [6], [1], [9], [8], [2], [0], [4], [7], [4], [0], [2], [7], [6], [8], [9], [1], [6], [2], [8], [8], [4], [1], [1], [0], [7], [0, 4], [2], [4, 6], [7], [7], [2], [6], [6], [7], [4], [5], [2, 3, 8], [0], [9], [2, 5], [7], [2], [5], [2, 6], [2], [2], [3, 7], [6], [2, 6], [6], [4], [1], [4, 6], [8], [3], [8], [5], [5], [2], [3], [4], [5], [0, 4], [7], [2, 3, 5], [1], [5], [3], [7], [8], [8], [9], [0, 2, 9], [0], [8], [2], [6], [0], [0, 8], [1], [4], [1], [3], [5], [1], [2, 6, 8], [9], [6], [4], [6], [9], [5], [6], [5], [9], [1], [4], [2], [8], [9], [5], [4], [7], [0, 3, 8], [3], [7], [1], [6], [9], [1], [1, 9], [4], [0], [5], [1], [6], [3], [8], [2], [5], [2, 5], [5], [2], [8], [2, 9], [2, 3, 6], [1], [6], [2, 6], [7], [0], [8], [9], [2], [6], [4], [7], [5], [5], [8], [8], [7], [8], [5], [7], [4], [4], [0], [0], [7], [0], [4], [0], [4], [4], [2], [3], [4], [0], [7], [0, 4, 7], [7], [0], [4], [6], [2], [0, 2, 7, 9], [1], [1], [5], [0, 8], [9], [1], [0], [6], [5], [3], [0], [9], [0], [6], [2], [2], [4], [1], [6], [7], [6], [1], [0], [4], [6], [0], [4], [4], [2], [7], [6], [4], [3], [5], [9], [4, 6], [5], [2], [0], [5], [7], [2], [3], [9], [4], [5], [0, 8], [1], [9], [3], [1, 9], [8], [5], [8], [6], [6], [3], [4], [0], [3], [3], [2], [6], [1], [8], [2], [1], [5], [6], [3], [2], [3], [3], [5], [0], [2], [1], [2], [8], [0], [8], [2], [2], [7], [3], [7], [9], [8], [3], [6], [1], [0, 2, 9], [8], [6], [7], [5], [8], [9], [4], [8], [0], [0], [2], [0, 9], [1], [8], [3], [7], [2], [8], [0, 4], [9], [3], [8], [9], [2, 6], [8], [9], [5], [4], [8], [9], [5], [5], [7], [2], [5], [8], [2, 8], [1], [2], [3], [1], [5], [0, 9], [2], [3], [0], [8], [2], [2], [8], [7], [3], [5], [2, 6], [9], [6], [3], [5], [1], [1], [7], [7], [2, 9], [3], [8], [0, 2, 9], [6], [0], [8], [0], [3], [6], [4], [6], [9], [1], [1], [7], [0], [6], [2, 8], [9], [0, 9], [6], [1], [0], [1], [1], [7], [2], [1], [0], [4], [5], [0], [3], [6], [3], [3], [8], [1], [8], [1], [6], [1], [3, 5], [4], [5], [1], [8], [9], [9], [3], [1], [7], [0, 2], [9], [8], [9], [4], [6], [0], [9], [4], [0], [4], [4, 6], [2], [1], [1], [0], [8], [5], [6], [0], [3], [4], [6], [9], [0, 3, 4], [7], [9], [0], [3], [6], [5], [3], [8], [5], [1], [2], [2], [9], [7], [0], [0], [1], [4], [4], [5], [5], [9], [6], [3], [6], [2], [6], [9], [3], [3], [3], [2, 9], [4, 5], [9], [2, 5], [2], [1], [6], [6], [4], [7], [6], [3], [4, 6], [8], [1], [4], [6], [4], [4], [5], [6], [2, 5], [0], [5], [2], [3], [5], [2], [5], [2], [5], [9], [0], [2, 6], [7], [9], [8], [5], [2], [1], [4], [2, 5], [4], [5], [5], [6], [8], [6], [0], [0], [9], [2], [0], [7], [7], [6], [2], [0, 3, 7], [5], [9], [8], [5], [9], [5], [3], [0, 4], [4], [0, 8], [2, 6], [3], [9], [1], [3], [9], [8], [3], [7], [4], [4], [0, 8], [2], [1], [9], [1], [2], [6], [8], [4], [7], [3], [1], [4], [3], [3], [1], [0], [8], [8], [8], [8], [1], [4], [7], [3], [1, 8], [6], [9], [1], [6], [0], [7], [7], [1], [3], [3], [3], [1], [0], [2], [7], [1], [2], [2], [1, 9], [6], [3], [5], [9], [4], [8], [0], [4], [0, 8], [0], [1, 9], [2, 3], [5, 7], [2], [4], [0, 4], [0], [8], [6], [4], [3], [9], [2, 8], [2], [2], [8], [3], [1], [1], [2], [8], [2], [6], [9], [6], [8], [0, 3, 7], [4], [1], [5], [2], [6], [9], [0], [0], [7], [1], [8], [9], [3], [9], [9], [0], [7], [7], [3], [4], [2], [6], [4], [5], [7], [7], [8], [7], [2], [6], [2], [2], [4], [4], [0], [7], [1], [2, 5], [9], [6], [0], [0], [3], [0, 3], [8], [0, 4], [2], [4], [3], [5], [0], [9], [1], [0], [0], [6], [5], [0], [7], [9], [9], [6], [5], [5], [8], [2, 5], [7], [1], [6], [2, 6], [4], [1], [2], [4], [1], [5], [0], [0], [4], [3, 5], [8], [2], [8], [3], [0], [2, 5], [0], [5], [7], [1], [6], [7], [0, 8], [9], [1], [5], [7], [6], [5], [5], [3, 7], [6], [0], [0], [1], [7], [3], [1], [9], [2], [4], [1], [3, 6], [7], [8], [0], [0, 8], [9], [6], [2, 6, 9], [0], [2, 6], [2, 6], [8], [2], [7], [7], [0], [2], [7], [7], [8], [8], [7], [0, 2, 9], [3], [9], [1], [4], [4], [5], [2, 4, 5], [4], [6], [2], [3], [1], [0], [3], [3], [3], [6], [5], [1], [2], [8], [0, 9], [7], [9], [3], [8], [7], [3, 4], [1], [7], [7], [3], [2], [2], [0, 8], [9], [5], [9], [2], [1], [7], [4], [4], [0], [5], [0, 7], [1], [5], [4], [2], [8], [4], [9], [8], [7], [8], [0, 4], [2], [3], [4], [0], [5], [4], [1], [8], [2], [5], [4], [5], [2], [5], [3], [7], [9], [5], [1], [0, 4, 5], [9], [3], [1], [4], [5], [5], [1], [7], [1], [7], [0], [1], [9], [5], [7], [0], [6], [3], [5], [7], [5], [5], [8], [9], [4], [6], [3], [6], [6], [8], [2], [6], [4], [8], [4], [1], [3], [9], [2], [3], [2, 3, 5], [0], [1], [6], [0, 4], [2], [8], [2], [4], [4], [1], [4], [4], [4], [4], [1], [5], [5], [0], [2, 6], [5], [4], [5], [6], [5], [6], [2], [4], [7], [2, 9], [4], [6], [5], [0], [2], [3], [9], [2], [3], [8], [0], [7], [0], [6], [8], [1], [2], [8], [9], [1], [5], [4], [2], [3], [5], [5], [2, 6, 8], [2, 6], [5], [0], [3], [2, 5, 7], [1], [3], [3], [7], [7], [4], [9], [4], [5], [9], [5], [1], [7], [6], [6], [2], [8], [5], [1], [2, 5], [8], [4, 6], [3], [3], [5], [3], [0, 9], [4], [8], [7], [2, 9], [9], [2, 3, 5], [8], [4], [4], [9], [1], [0], [3], [1, 8], [3], [8], [0], [5], [5], [4], [2], [9], [2], [7], [2], [0], [7], [2, 6], [9], [7], [5], [0], [7], [0], [3], [5], [3], [3], [8], [7], [7], [1], [6], [2, 9], [8], [9], [0], [1], [1, 9], [4], [0], [0], [1], [7], [2], [2, 5], [8], [5], [9], [1], [2], [8], [0], [6], [6], [8], [6], [9], [2, 5], [1], [1], [5], [3], [5], [0], [7], [6], [1], [4], [4], [1], [1], [8], [1], [1], [2], [3], [4], [9], [9], [3, 5], [2], [7], [2], [3], [6], [1], [2, 6], [9], [8], [8], [6], [7], [4], [7], [2], [3], [8], [0], [9], [0, 9], [7], [8], [1], [2], [3], [0, 2], [2], [2], [9], [0], [4, 7, 8], [8], [9], [6], [5], [5], [2], [4], [1], [0, 9], [6], [1], [1, 8], [4], [5], [6], [5], [0], [8], [9], [0], [5], [7], [9], [6], [5], [4], [6], [4], [9], [3], [1], [0], [5], [2], [1], [0], [3], [2], [9], [8], [1], [9], [7], [7], [3], [1], [4], [1], [9], [3], [2, 8], [8], [1], [9], [3], [8], [9], [5], [1], [1], [6], [2, 9], [7], [2], [6], [4], [6], [9], [6], [0], [1], [2, 3, 5], [9], [3, 7], [8], [2, 8], [0, 8], [2], [9], [1], [6], [6], [0], [5], [0], [7], [4], [7], [9], [4], [5], [0], [0], [3], [5], [3], [8], [9], [1], [2], [7], [1], [3], [3], [6], [9], [1], [0], [7], [1], [9], [5], [8], [1], [9], [1], [7], [9], [1, 8], [5], [0], [2, 9], [6], [9], [2], [2], [4], [0], [8], [4], [8], [1], [7], [7], [2], [7], [9], [5], [2], [2], [9], [2], [6], [5], [7], [2], [5], [6], [5], [1], [8], [2], [6], [8], [6], [5], [0], [8], [0], [0], [9], [2, 9], [2], [8], [0, 8], [6], [6], [0], [7], [9], [8], [0], [5], [0], [9], [6], [0], [4], [7], [1], [7], [8], [8], [2], [3], [9], [3], [5], [5], [3], [1], [5], [3], [0], [2], [5], [2], [7], [3], [8], [4], [4], [6], [1], [9], [4, 6], [1], [7], [0], [1], [4], [5], [0], [2], [9], [4], [5], [0], [3], [4], [7], [2], [3], [0], [1], [4], [7], [9], [9], [0], [7], [5], [2, 6], [7], [1], [2, 6], [3], [7], [3], [6], [8], [4, 6], [9], [8], [4], [9], [2], [3], [4], [0], [2], [3], [6], [0], [5], [3], [5], [8], [3], [4], [4], [9], [5], [6], [3], [8], [2, 6], [1], [8], [5], [5], [8], [6], [5], [9], [0], [4], [2, 5], [0], [5], [9], [9], [3], [8], [0], [6], [0], [2], [3], [7], [8], [2, 9], [6], [9], [1], [5], [2], [2], [7], [9], [3], [9], [3], [5], [2], [2], [2], [8], [8], [5], [0], [0], [7], [0], [3], [1], [6], [5], [0], [9], [2], [6], [7], [4], [0, 2, 9], [0], [0], [7], [2], [3], [2], [4, 6], [4], [2], [7], [8], [0], [1], [0], [1], [3], [6], [4], [8], [0], [6], [0], [9], [1], [6], [2, 5], [1], [0], [1], [3], [0], [4], [7], [9], [9], [3], [7], [2, 5], [7], [1], [6], [6], [9], [1], [1], [4], [0, 4], [2], [1], [7], [0], [1], [2], [1], [1], [3], [2], [6], [9], [1], [3], [2], [0, 2, 9], [0], [7], [3], [4], [6], [4], [6], [9], [4], [8], [9], [2, 3, 5], [0], [5], [7], [2], [2], [2], [2, 9], [9], [2], [8], [7], [1], [1], [2], [2], [2], [2], [9], [1], [2], [6], [1], [2, 6], [1], [8], [9], [2], [2, 3], [1], [9], [9], [3], [4], [5], [2, 5], [0], [3], [2, 5], [7], [1], [7], [7], [1], [8], [1, 9], [3], [5], [5], [1], [6], [2], [0, 2, 9], [8], [4], [3], [3], [5], [9], [8], [8], [5], [1], [0], [6], [7], [0], [9], [6], [0], [0], [8], [7], [1], [2], [6], [9], [1], [6], [4], [7], [1], [0, 2, 7, 9], [0], [0], [3], [2], [8], [3], [8], [4], [8], [4], [0], [8], [3], [3, 6], [1], [2, 5], [3], [0], [5], [0], [4], [1], [7], [2], [0], [1], [3], [9], [1], [6], [1], [6], [1], [2], [8], [7], [0], [9], [5], [0, 4], [0], [0], [1], [7], [9], [7], [1], [9], [2], [1], [9], [0, 4, 7], [3], [6], [0], [2], [0], [0], [9], [2, 3, 9], [8], [9], [4], [5], [4], [3], [0], [7], [8], [7], [3], [7], [3], [4], [6], [5], [9], [3], [2], [4], [2, 5], [7], [9], [6], [7], [0, 4], [7], [1], [2], [3], [1], [9], [3], [6], [8], [3], [7], [7], [0], [8], [1], [5], [2], [2, 5], [3], [3], [6], [3], [3], [9], [8], [4], [2, 6, 8], [8], [0], [0, 4], [1], [7], [8], [4], [9], [5], [2], [6], [2, 6], [8], [8], [6], [7], [3], [8], [1], [1], [5], [3], [7], [9], [9], [9], [8], [5], [9], [9], [6], [8], [8], [4], [8], [1], [0, 4], [1], [8], [8], [6], [5], [9], [0], [6], [1], [6], [6], [6], [2], [5], [6], [5], [3], [3], [3], [6], [8], [9], [4], [4], [3], [8], [5], [6], [0, 8], [8], [5], [7], [8], [4], [2, 6], [5], [3], [1], [8], [3], [0, 8], [0, 4], [0, 3, 4, 7], [0, 8], [3], [5], [3], [3], [2], [7], [7], [2, 8], [4], [0], [5], [3], [6], [1], [1], [3], [9], [9], [3], [6], [7], [1], [8], [3], [9], [2, 5], [7], [8], [8], [0], [3], [2], [4], [8], [7], [2, 5], [7], [1], [8], [7], [3], [2], [4], [4], [3], [8], [6], [1], [1], [6], [3], [2, 3, 6], [2], [8], [9], [8], [3], [3], [1, 8], [1], [1], [0], [5], [2], [0], [5], [0], [5], [0], [6], [3], [1], [6], [6], [3], [0, 9], [4], [8], [3], [0, 4], [5], [1], [1], [2], [9], [2, 7, 9], [8], [5], [5], [8], [4, 6], [9], [0], [8], [0], [3], [1], [2], [3], [3], [5], [3], [8], [0, 2, 9], [4], [6], [4], [2], [4], [3], [8], [9], [6], [2, 6], [6], [3], [5], [2], [7], [7], [4], [4], [9], [5], [8], [3], [7], [7], [8], [5], [3], [9], [1], [6], [2, 3, 4, 5], [3], [3], [3], [8], [5], [6], [1], [3], [7], [9], [6], [1], [6], [4], [0, 9], [0], [5], [7], [4], [9], [1], [2, 6], [0], [2], [7], [8], [7], [2, 5], [9], [6], [1], [6], [6], [4], [2, 6], [2], [1], [8], [4], [4], [0, 4], [8], [3, 5], [8], [9], [4], [3], [2], [3], [1], [3], [0], [1], [1], [1], [1], [6], [8], [5, 7], [1], [3], [0], [4], [7], [0], [5], [0], [6], [2], [0], [9], [8], [2, 6], [8], [3], [8], [2, 6], [0, 4], [2, 6], [0], [6], [1], [8], [7], [6], [2], [2], [6], [5], [2, 6], [9], [2], [3, 4, 5], [4], [9], [8], [5], [3], [9], [3], [5], [7], [1], [8], [5], [8], [6], [0, 4, 7], [5], [1], [3], [0], [4], [1, 9], [9], [7], [4], [9], [2], [1], [4], [4], [5], [9], [8], [7], [2], [1], [6], [9], [7], [3], [6], [0], [8], [0, 8], [2], [0], [4], [9], [0, 4], [5], [3], [4], [3], [3], [1], [0], [0, 4], [0], [4], [4], [2, 9], [1], [3], [2, 8], [0], [2], [1], [1], [0], [4], [1], [9], [4], [8], [1], [1], [1], [5], [9], [0, 8], [1], [6], [7], [2], [9], [9], [7], [8], [8], [1], [0, 2, 9], [7], [8], [0, 2, 9], [1], [6], [6], [3], [3], [1], [3], [0, 8], [8], [8], [3], [2, 6], [6], [7], [9], [0], [7], [6], [4], [1, 8], [2], [0], [6], [3], [0, 8], [6], [2, 5], [1], [1], [8], [6], [7], [0], [5], [4], [3], [2], [1], [7], [8], [2], [0], [1], [7], [4, 8], [8], [7], [6], [6], [7], [0], [0], [4], [9], [0], [6], [2, 5], [1], [3], [8], [6], [1, 8], [1], [9], [6], [7], [6], [5], [0, 9], [6], [0], [1], [3], [1], [1], [5], [3], [4], [3], [3], [8], [1], [6], [6], [1], [8], [8], [6], [2], [7], [4], [6], [8], [9], [3], [2, 5], [4], [5], [3], [1], [4], [1], [2, 9], [5], [1], [7], [7], [4, 7], [5], [2], [8], [2], [6], [6], [6], [4], [0], [7], [1], [7], [2, 3, 6], [0], [3], [1], [0, 4], [4], [1], [2], [2], [4], [9], [2, 8], [2], [8], [5], [6], [3], [4], [7], [3], [3], [1], [5], [3], [0], [4], [3], [4], [9], [4], [7], [9], [1], [7], [8], [3], [1], [8], [3], [2], [5], [7], [2], [7], [9], [6], [8], [6], [8], [6], [5], [9], [0], [4], [8], [5], [6], [6], [2, 5], [8], [0], [4], [8], [6], [7], [2], [2], [1], [7], [4], [1], [2], [0, 4], [2], [2], [8], [7], [2], [2], [5], [7], [7], [6], [8], [9], [9], [5], [5], [2], [9], [8], [7], [2], [0, 2, 4, 7], [3], [7], [4, 7], [3], [2], [1], [9], [3, 8], [1], [5], [3], [2], [6], [3], [9], [1], [5], [4], [3], [6], [2, 9], [0, 4], [9], [7], [8], [0], [8], [9], [1], [2], [5], [7], [2], [0], [2, 6], [6], [1], [2, 6], [4], [0], [5], [0], [0], [5, 7], [4], [6], [5], [6], [4], [8], [3], [0, 4], [5], [5], [0, 4], [6], [6], [7], [3], [0], [9], [9], [6], [1], [0], [4], [6], [2, 5], [0], [9], [2, 6], [6], [6], [3], [2], [1, 2, 8, 9], [0], [1], [9], [1, 2, 9], [7], [2], [3], [0], [2], [7], [6], [4], [2, 3], [0], [8], [2, 3], [0], [0], [9], [6], [6], [6], [8], [4, 7], [4], [1], [8], [1], [2], [2], [4], [8], [5], [2], [6], [5], [7], [9], [1], [0], [7], [2], [2], [4], [0], [0], [4], [2], [2], [4], [0], [4, 5, 7], [9], [4], [1], [8], [4, 7], [5], [5], [9], [0, 8], [5], [7], [8], [0, 9], [9], [8], [9], [1], [6], [3], [8], [0], [3], [4], [4], [8], [4], [8], [9], [8], [6], [0], [0], [8], [2], [0], [4], [2], [7], [6], [0], [5], [8], [0, 4], [1], [9], [0], [1], [4], [4], [8], [4], [9], [6], [0], [0, 4, 7], [4], [6], [8], [9], [6], [2], [0, 8], [4], [9], [4], [9], [3], [9], [2, 5], [6], [7], [0], [9], [7], [1, 8], [8], [4, 6], [0], [6], [4], [4], [1], [9], [2], [6], [7], [9], [8], [3], [9], [2], [1], [2], [7], [4], [1], [0], [0], [2, 3, 5], [6], [0], [4], [3], [2, 5], [8], [2, 8], [0], [6], [9], [5], [2], [8], [7], [8], [6], [5], [9], [4], [2], [4], [6], [9], [6], [2], [2], [4], [1], [0], [5], [9], [8], [9], [3], [5], [9], [3], [8], [1], [6], [3], [7], [3], [6], [2], [0], [2], [8], [2], [8], [2, 7], [7], [8], [1], [0], [4, 8], [9], [7], [0], [3], [8], [0], [5], [9], [5], [8], [2, 5], [2], [0], [9], [2], [4], [4], [4], [9], [2], [2, 9], [5], [3], [1], [3], [2], [0], [0], [4], [9], [6], [3], [8], [2, 9], [5], [8], [6], [4, 7], [8], [2, 5], [3], [9], [7], [9], [7], [1], [2], [1], [9], [6], [9], [2], [7], [9], [4, 6], [4], [0], [6], [2], [4, 7], [1], [2, 5], [7], [2], [8], [5], [9], [0], [3], [2], [3], [2], [7], [6], [3], [2], [5], [9], [0, 8], [5], [1], [9], [8], [7], [7], [4], [8], [6], [3], [2], [3], [1], [0], [4], [1], [8], [8], [4], [9], [4], [4], [4], [3], [9], [2], [0], [1], [1], [1, 8], [4], [4], [8], [3], [6], [9], [5], [7], [2, 6], [2, 6], [5], [4], [7], [3], [3], [2, 9], [0], [1], [5], [9], [5], [7], [6], [0], [4], [2], [2], [5], [6], [3], [8], [9], [5], [6], [1], [4], [5], [4], [6], [7], [2], [1], [0, 9], [2], [0], [0, 4], [9], [8], [8], [9], [1], [1], [5], [0], [0], [8], [7], [1], [7], [4], [5], [4], [3], [3], [2], [0], [6], [2, 6], [0], [1], [3], [9], [8], [3], [7], [8], [0, 2, 9], [4], [8], [9], [0], [9], [7], [1], [2, 6], [2, 5], [9], [5], [2, 6], [9], [2, 3, 5], [9], [8], [7], [7], [1], [6], [8], [3], [9], [3], [1, 8], [2], [5, 7], [1], [8], [2], [0], [9], [7], [9], [8], [8], [6], [7], [3], [7], [1], [3], [9], [0], [9], [2, 5], [6], [7], [2, 9], [3], [3], [0], [5], [9], [7], [3], [5], [0], [6], [5], [1], [8], [2], [7], [3], [9], [0], [0], [2], [0], [8], [7], [3], [7], [8], [9], [3], [7], [9], [7], [8], [7], [9], [8], [5], [4], [0, 8], [3, 7], [7], [2], [3], [8], [2], [1], [9], [3, 4], [2, 3, 7, 8], [3], [9], [5], [5], [8], [7], [3], [5], [3], [5], [9], [7], [6], [2], [3], [6], [4], [5], [9], [4], [2], [1], [9], [2, 6], [0], [2, 5], [6], [4, 7], [4, 7], [7], [9], [0], [7], [4], [3], [5], [3], [1], [1], [2], [6], [8], [2, 6], [1], [7], [8], [5], [9], [6], [1], [8], [5], [0], [6], [0], [9], [2], [6], [5], [8], [9], [2, 5], [5], [6], [2, 5], [9], [1], [2, 5], [1], [8], [7], [1], [7], [4], [2], [4, 7], [9], [7], [5], [2], [9], [9], [4], [3], [2], [1], [3], [0, 8], [7], [9], [0], [4], [5], [7], [5], [2, 6], [8], [7], [2, 6], [9], [6], [9], [3], [8], [5], [6], [6], [9], [5], [7], [8], [0], [3], [0], [7], [4], [8], [2], [5], [1, 9], [3], [2], [2], [6], [4], [1], [2, 7, 9], [4], [4, 6], [5], [1], [3], [7], [2, 5], [1, 2, 6, 9], [3], [7], [0], [8], [4], [4], [5], [7], [2, 9], [5], [4, 7], [3], [1], [6], [8], [0, 2, 9], [3], [3], [1], [6], [1], [7], [0], [3], [4, 6], [2], [9], [4], [5], [8], [7], [7], [0], [9], [4, 6], [8], [0], [2, 8], [2], [8], [5], [7], [7], [2], [2], [0], [0, 8], [0], [7], [4], [1], [6], [6], [8], [8], [9], [0], [9], [0], [1], [3], [3, 4, 6], [0], [9], [2, 6, 8], [6], [4], [6], [3], [4], [0, 8], [8], [4], [1], [4], [0], [6], [3], [0, 9], [9], [9], [1], [9], [1], [2], [2, 5], [5], [4], [2], [9], [2, 6], [0], [2, 9], [6], [6], [8], [0], [6], [1], [4], [6], [1, 8], [0], [5], [4], [1], [2], [0], [9], [6], [4], [2], [4], [6], [5], [9], [7], [7], [4], [6], [2, 5], [0], [1, 9], [2, 9], [0], [3], [5], [9], [0], [9], [7], [8], [6], [7], [6], [8], [2, 5], [4], [5], [3], [0], [3], [2, 6], [1], [7], [5], [9], [3], [4], [5], [3], [1], [5], [0], [1], [1], [1], [9], [5], [5], [4], [9], [7], [8], [1], [0], [2, 9], [8], [5], [6], [7], [0], [6], [4], [8], [4], [4], [6], [6], [3, 7], [8], [1], [8], [4], [6], [5, 7], [9], [2], [2], [1], [4], [9], [1], [6], [7], [2], [0], [1], [2, 6], [6], [5], [2], [2], [5], [4, 6], [0], [0, 9], [0], [1], [5], [3], [3], [5], [8], [7], [2, 3, 5], [6], [3, 5], [8], [0], [3], [9], [4], [6], [5], [1], [1], [0], [5], [3], [9], [4], [8], [1], [7], [7], [9], [9], [4, 7], [2, 6, 8], [6], [3], [2], [8], [2], [7], [2, 6], [7], [0], [2, 9], [1], [2], [9], [2], [2, 9], [9], [3], [1], [0], [1], [8], [7], [0, 9], [0], [2, 5], [7], [4], [3], [4], [9], [5], [9], [0], [7], [4], [5], [8], [1], [4], [7], [9], [9], [8], [8], [2, 6, 8], [3], [7], [0], [1, 8], [9], [2, 6], [2], [2], [3], [2], [9], [7], [7], [2, 6], [8], [5], [6], [1], [3], [5], [0, 9], [9], [1], [3], [0, 2, 9], [0], [3], [0], [2], [0], [7], [2, 6], [9], [2, 5], [5], [7], [6], [5], [9], [5], [6], [1], [0, 2], [4], [0], [2], [7], [8], [4], [4], [0], [9], [5], [9], [4], [9], [3], [2], [5], [3], [2, 5], [2], [8], [8], [6], [0], [1], [6], [2, 8], [0], [8], [5], [0], [4], [9], [1], [5], [7], [1], [2, 6], [0], [1], [5], [2], [8], [1], [1], [3], [8], [1], [8], [1], [8], [5], [1], [1], [0], [5], [0], [4], [0], [3], [1], [4], [0], [4], [9], [5], [1], [2, 6], [2], [7], [8], [7], [2], [4], [5], [3], [7], [0], [4], [1], [5], [9], [8], [0], [2], [0], [4, 7], [6], [0], [4, 6], [9], [7], [5], [8], [4], [6], [0], [6], [0, 2, 9], [6], [8], [1], [1], [8], [9], [7], [2], [9], [0], [2], [2], [9], [0], [2, 6], [5], [3, 7], [7], [9], [1], [7], [9], [8], [4], [5], [0], [8], [0], [0, 4, 7], [5], [2], [1], [4], [4], [8], [9], [7], [8], [2], [6], [6], [0], [1], [1], [1], [8], [1], [4], [4], [0], [7], [8], [2], [1], [2], [5], [0, 4, 7], [6], [0], [5], [7], [4], [4], [3], [9], [5], [8], [8], [0], [0, 8], [7], [4], [1], [8], [4], [9], [5], [4, 6], [1], [7], [7], [7], [7], [0], [3], [8], [4, 6], [3], [0], [5], [4], [0], [8], [0], [0, 9], [9], [2], [0], [3], [4], [8], [2], [2], [6], [4], [5], [2, 6], [2], [9], [4], [0], [1], [7], [5], [5], [7], [3], [0], [4], [2, 6], [0], [7], [2, 5], [8], [0], [8], [4], [7], [0], [3], [5], [3], [0, 8], [3], [5], [1], [7]]\n",
            "[0.88651857]\n"
          ],
          "name": "stdout"
        }
      ]
    },
    {
      "cell_type": "code",
      "metadata": {
        "colab": {
          "base_uri": "https://localhost:8080/",
          "height": 965
        },
        "id": "BQZ0h_v9P_Vd",
        "outputId": "0f2aa1b3-a008-4654-c365-4d9775fcf0ad"
      },
      "source": [
        "import matplotlib.pyplot as plt\n",
        "from skimage.io import imread, imshow\n",
        "imshow(x_test[7])\n",
        "print ('lable: ',y_test_label[7])\n",
        "print ('prediction: ',imprecise_results[7])\n",
        "plt.show()\n",
        "imshow(x_test[20])\n",
        "print ('lable: ',y_test_label[20])\n",
        "print ('prediction: ',imprecise_results[20])\n",
        "plt.show()\n",
        "imshow(x_test[25])\n",
        "print ('lable: ',y_test_label[25])\n",
        "print ('prediction: ',imprecise_results[25])\n",
        "plt.show()\n",
        "#label_dict = {0:'airplane', 1:'automobile', 2:'bird', 3:'cat', 4:'deer',\n",
        "#              5:'dog', 6:'frog', 7:'horse', 8:'ship', 9:'truck'}"
      ],
      "execution_count": null,
      "outputs": [
        {
          "output_type": "stream",
          "text": [
            "lable:  [6]\n",
            "prediction:  [2, 6, 9]\n"
          ],
          "name": "stdout"
        },
        {
          "output_type": "display_data",
          "data": {
            "image/png": "[encoded data removed]",
            "text/plain": [
              "<Figure size 432x288 with 1 Axes>"
            ]
          },
          "metadata": {
            "tags": [],
            "needs_background": "light"
          }
        },
        {
          "output_type": "stream",
          "text": [
            "lable:  [7]\n",
            "prediction:  [3, 7]\n"
          ],
          "name": "stdout"
        },
        {
          "output_type": "display_data",
          "data": {
            "image/png": "[encoded data removed]",
            "text/plain": [
              "<Figure size 432x288 with 1 Axes>"
            ]
          },
          "metadata": {
            "tags": [],
            "needs_background": "light"
          }
        },
        {
          "output_type": "stream",
          "text": [
            "lable:  [2]\n",
            "prediction:  [2, 4, 7]\n"
          ],
          "name": "stdout"
        },
        {
          "output_type": "display_data",
          "data": {
            "image/png": "[encoded data removed]",
            "text/plain": [
              "<Figure size 432x288 with 1 Axes>"
            ]
          },
          "metadata": {
            "tags": [],
            "needs_background": "light"
          }
        }
      ]
    }
  ]
}